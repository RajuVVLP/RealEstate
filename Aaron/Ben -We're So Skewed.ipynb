{
 "cells": [
  {
   "cell_type": "code",
   "execution_count": 1,
   "metadata": {
    "collapsed": true
   },
   "outputs": [],
   "source": [
    "import numpy as np\n",
    "import pandas as pd\n",
    "import matplotlib.pyplot as plt\n",
    "import seaborn as sns; sns.set()\n",
    "\n",
    "from scipy import stats\n",
    "from scipy.stats import norm\n",
    "%matplotlib inline\n",
    "import math"
   ]
  },
  {
   "cell_type": "code",
   "execution_count": 3,
   "metadata": {
    "collapsed": true
   },
   "outputs": [],
   "source": [
    "train = pd.read_csv('train.csv')"
   ]
  },
  {
   "cell_type": "code",
   "execution_count": 4,
   "metadata": {
    "collapsed": true
   },
   "outputs": [],
   "source": [
    "test = pd.read_csv('test.csv')"
   ]
  },
  {
   "cell_type": "code",
   "execution_count": 51,
   "metadata": {},
   "outputs": [
    {
     "data": {
      "text/html": [
       "<div>\n",
       "<style>\n",
       "    .dataframe thead tr:only-child th {\n",
       "        text-align: right;\n",
       "    }\n",
       "\n",
       "    .dataframe thead th {\n",
       "        text-align: left;\n",
       "    }\n",
       "\n",
       "    .dataframe tbody tr th {\n",
       "        vertical-align: top;\n",
       "    }\n",
       "</style>\n",
       "<table border=\"1\" class=\"dataframe\">\n",
       "  <thead>\n",
       "    <tr style=\"text-align: right;\">\n",
       "      <th></th>\n",
       "      <th>Id</th>\n",
       "      <th>MSSubClass</th>\n",
       "      <th>LotFrontage</th>\n",
       "      <th>LotArea</th>\n",
       "      <th>OverallQual</th>\n",
       "      <th>OverallCond</th>\n",
       "      <th>YearBuilt</th>\n",
       "      <th>YearRemodAdd</th>\n",
       "      <th>MasVnrArea</th>\n",
       "      <th>BsmtFinSF1</th>\n",
       "      <th>...</th>\n",
       "      <th>WoodDeckSF</th>\n",
       "      <th>OpenPorchSF</th>\n",
       "      <th>EnclosedPorch</th>\n",
       "      <th>3SsnPorch</th>\n",
       "      <th>ScreenPorch</th>\n",
       "      <th>PoolArea</th>\n",
       "      <th>MiscVal</th>\n",
       "      <th>MoSold</th>\n",
       "      <th>YrSold</th>\n",
       "      <th>SalePrice</th>\n",
       "    </tr>\n",
       "  </thead>\n",
       "  <tbody>\n",
       "    <tr>\n",
       "      <th>count</th>\n",
       "      <td>1460.000000</td>\n",
       "      <td>1460.000000</td>\n",
       "      <td>1201.000000</td>\n",
       "      <td>1460.000000</td>\n",
       "      <td>1460.000000</td>\n",
       "      <td>1460.000000</td>\n",
       "      <td>1460.000000</td>\n",
       "      <td>1460.000000</td>\n",
       "      <td>1452.000000</td>\n",
       "      <td>1460.000000</td>\n",
       "      <td>...</td>\n",
       "      <td>1460.000000</td>\n",
       "      <td>1460.000000</td>\n",
       "      <td>1460.000000</td>\n",
       "      <td>1460.000000</td>\n",
       "      <td>1460.000000</td>\n",
       "      <td>1460.000000</td>\n",
       "      <td>1460.000000</td>\n",
       "      <td>1460.000000</td>\n",
       "      <td>1460.000000</td>\n",
       "      <td>1460.000000</td>\n",
       "    </tr>\n",
       "    <tr>\n",
       "      <th>mean</th>\n",
       "      <td>730.500000</td>\n",
       "      <td>56.897260</td>\n",
       "      <td>70.049958</td>\n",
       "      <td>10516.828082</td>\n",
       "      <td>6.099315</td>\n",
       "      <td>5.575342</td>\n",
       "      <td>1971.267808</td>\n",
       "      <td>1984.865753</td>\n",
       "      <td>103.685262</td>\n",
       "      <td>443.639726</td>\n",
       "      <td>...</td>\n",
       "      <td>94.244521</td>\n",
       "      <td>46.660274</td>\n",
       "      <td>21.954110</td>\n",
       "      <td>3.409589</td>\n",
       "      <td>15.060959</td>\n",
       "      <td>2.758904</td>\n",
       "      <td>43.489041</td>\n",
       "      <td>6.321918</td>\n",
       "      <td>2007.815753</td>\n",
       "      <td>180921.195890</td>\n",
       "    </tr>\n",
       "    <tr>\n",
       "      <th>std</th>\n",
       "      <td>421.610009</td>\n",
       "      <td>42.300571</td>\n",
       "      <td>24.284752</td>\n",
       "      <td>9981.264932</td>\n",
       "      <td>1.382997</td>\n",
       "      <td>1.112799</td>\n",
       "      <td>30.202904</td>\n",
       "      <td>20.645407</td>\n",
       "      <td>181.066207</td>\n",
       "      <td>456.098091</td>\n",
       "      <td>...</td>\n",
       "      <td>125.338794</td>\n",
       "      <td>66.256028</td>\n",
       "      <td>61.119149</td>\n",
       "      <td>29.317331</td>\n",
       "      <td>55.757415</td>\n",
       "      <td>40.177307</td>\n",
       "      <td>496.123024</td>\n",
       "      <td>2.703626</td>\n",
       "      <td>1.328095</td>\n",
       "      <td>79442.502883</td>\n",
       "    </tr>\n",
       "    <tr>\n",
       "      <th>min</th>\n",
       "      <td>1.000000</td>\n",
       "      <td>20.000000</td>\n",
       "      <td>21.000000</td>\n",
       "      <td>1300.000000</td>\n",
       "      <td>1.000000</td>\n",
       "      <td>1.000000</td>\n",
       "      <td>1872.000000</td>\n",
       "      <td>1950.000000</td>\n",
       "      <td>0.000000</td>\n",
       "      <td>0.000000</td>\n",
       "      <td>...</td>\n",
       "      <td>0.000000</td>\n",
       "      <td>0.000000</td>\n",
       "      <td>0.000000</td>\n",
       "      <td>0.000000</td>\n",
       "      <td>0.000000</td>\n",
       "      <td>0.000000</td>\n",
       "      <td>0.000000</td>\n",
       "      <td>1.000000</td>\n",
       "      <td>2006.000000</td>\n",
       "      <td>34900.000000</td>\n",
       "    </tr>\n",
       "    <tr>\n",
       "      <th>25%</th>\n",
       "      <td>365.750000</td>\n",
       "      <td>20.000000</td>\n",
       "      <td>59.000000</td>\n",
       "      <td>7553.500000</td>\n",
       "      <td>5.000000</td>\n",
       "      <td>5.000000</td>\n",
       "      <td>1954.000000</td>\n",
       "      <td>1967.000000</td>\n",
       "      <td>0.000000</td>\n",
       "      <td>0.000000</td>\n",
       "      <td>...</td>\n",
       "      <td>0.000000</td>\n",
       "      <td>0.000000</td>\n",
       "      <td>0.000000</td>\n",
       "      <td>0.000000</td>\n",
       "      <td>0.000000</td>\n",
       "      <td>0.000000</td>\n",
       "      <td>0.000000</td>\n",
       "      <td>5.000000</td>\n",
       "      <td>2007.000000</td>\n",
       "      <td>129975.000000</td>\n",
       "    </tr>\n",
       "    <tr>\n",
       "      <th>50%</th>\n",
       "      <td>730.500000</td>\n",
       "      <td>50.000000</td>\n",
       "      <td>69.000000</td>\n",
       "      <td>9478.500000</td>\n",
       "      <td>6.000000</td>\n",
       "      <td>5.000000</td>\n",
       "      <td>1973.000000</td>\n",
       "      <td>1994.000000</td>\n",
       "      <td>0.000000</td>\n",
       "      <td>383.500000</td>\n",
       "      <td>...</td>\n",
       "      <td>0.000000</td>\n",
       "      <td>25.000000</td>\n",
       "      <td>0.000000</td>\n",
       "      <td>0.000000</td>\n",
       "      <td>0.000000</td>\n",
       "      <td>0.000000</td>\n",
       "      <td>0.000000</td>\n",
       "      <td>6.000000</td>\n",
       "      <td>2008.000000</td>\n",
       "      <td>163000.000000</td>\n",
       "    </tr>\n",
       "    <tr>\n",
       "      <th>75%</th>\n",
       "      <td>1095.250000</td>\n",
       "      <td>70.000000</td>\n",
       "      <td>80.000000</td>\n",
       "      <td>11601.500000</td>\n",
       "      <td>7.000000</td>\n",
       "      <td>6.000000</td>\n",
       "      <td>2000.000000</td>\n",
       "      <td>2004.000000</td>\n",
       "      <td>166.000000</td>\n",
       "      <td>712.250000</td>\n",
       "      <td>...</td>\n",
       "      <td>168.000000</td>\n",
       "      <td>68.000000</td>\n",
       "      <td>0.000000</td>\n",
       "      <td>0.000000</td>\n",
       "      <td>0.000000</td>\n",
       "      <td>0.000000</td>\n",
       "      <td>0.000000</td>\n",
       "      <td>8.000000</td>\n",
       "      <td>2009.000000</td>\n",
       "      <td>214000.000000</td>\n",
       "    </tr>\n",
       "    <tr>\n",
       "      <th>max</th>\n",
       "      <td>1460.000000</td>\n",
       "      <td>190.000000</td>\n",
       "      <td>313.000000</td>\n",
       "      <td>215245.000000</td>\n",
       "      <td>10.000000</td>\n",
       "      <td>9.000000</td>\n",
       "      <td>2010.000000</td>\n",
       "      <td>2010.000000</td>\n",
       "      <td>1600.000000</td>\n",
       "      <td>5644.000000</td>\n",
       "      <td>...</td>\n",
       "      <td>857.000000</td>\n",
       "      <td>547.000000</td>\n",
       "      <td>552.000000</td>\n",
       "      <td>508.000000</td>\n",
       "      <td>480.000000</td>\n",
       "      <td>738.000000</td>\n",
       "      <td>15500.000000</td>\n",
       "      <td>12.000000</td>\n",
       "      <td>2010.000000</td>\n",
       "      <td>755000.000000</td>\n",
       "    </tr>\n",
       "  </tbody>\n",
       "</table>\n",
       "<p>8 rows × 38 columns</p>\n",
       "</div>"
      ],
      "text/plain": [
       "                Id   MSSubClass  LotFrontage        LotArea  OverallQual  \\\n",
       "count  1460.000000  1460.000000  1201.000000    1460.000000  1460.000000   \n",
       "mean    730.500000    56.897260    70.049958   10516.828082     6.099315   \n",
       "std     421.610009    42.300571    24.284752    9981.264932     1.382997   \n",
       "min       1.000000    20.000000    21.000000    1300.000000     1.000000   \n",
       "25%     365.750000    20.000000    59.000000    7553.500000     5.000000   \n",
       "50%     730.500000    50.000000    69.000000    9478.500000     6.000000   \n",
       "75%    1095.250000    70.000000    80.000000   11601.500000     7.000000   \n",
       "max    1460.000000   190.000000   313.000000  215245.000000    10.000000   \n",
       "\n",
       "       OverallCond    YearBuilt  YearRemodAdd   MasVnrArea   BsmtFinSF1  \\\n",
       "count  1460.000000  1460.000000   1460.000000  1452.000000  1460.000000   \n",
       "mean      5.575342  1971.267808   1984.865753   103.685262   443.639726   \n",
       "std       1.112799    30.202904     20.645407   181.066207   456.098091   \n",
       "min       1.000000  1872.000000   1950.000000     0.000000     0.000000   \n",
       "25%       5.000000  1954.000000   1967.000000     0.000000     0.000000   \n",
       "50%       5.000000  1973.000000   1994.000000     0.000000   383.500000   \n",
       "75%       6.000000  2000.000000   2004.000000   166.000000   712.250000   \n",
       "max       9.000000  2010.000000   2010.000000  1600.000000  5644.000000   \n",
       "\n",
       "           ...         WoodDeckSF  OpenPorchSF  EnclosedPorch    3SsnPorch  \\\n",
       "count      ...        1460.000000  1460.000000    1460.000000  1460.000000   \n",
       "mean       ...          94.244521    46.660274      21.954110     3.409589   \n",
       "std        ...         125.338794    66.256028      61.119149    29.317331   \n",
       "min        ...           0.000000     0.000000       0.000000     0.000000   \n",
       "25%        ...           0.000000     0.000000       0.000000     0.000000   \n",
       "50%        ...           0.000000    25.000000       0.000000     0.000000   \n",
       "75%        ...         168.000000    68.000000       0.000000     0.000000   \n",
       "max        ...         857.000000   547.000000     552.000000   508.000000   \n",
       "\n",
       "       ScreenPorch     PoolArea       MiscVal       MoSold       YrSold  \\\n",
       "count  1460.000000  1460.000000   1460.000000  1460.000000  1460.000000   \n",
       "mean     15.060959     2.758904     43.489041     6.321918  2007.815753   \n",
       "std      55.757415    40.177307    496.123024     2.703626     1.328095   \n",
       "min       0.000000     0.000000      0.000000     1.000000  2006.000000   \n",
       "25%       0.000000     0.000000      0.000000     5.000000  2007.000000   \n",
       "50%       0.000000     0.000000      0.000000     6.000000  2008.000000   \n",
       "75%       0.000000     0.000000      0.000000     8.000000  2009.000000   \n",
       "max     480.000000   738.000000  15500.000000    12.000000  2010.000000   \n",
       "\n",
       "           SalePrice  \n",
       "count    1460.000000  \n",
       "mean   180921.195890  \n",
       "std     79442.502883  \n",
       "min     34900.000000  \n",
       "25%    129975.000000  \n",
       "50%    163000.000000  \n",
       "75%    214000.000000  \n",
       "max    755000.000000  \n",
       "\n",
       "[8 rows x 38 columns]"
      ]
     },
     "execution_count": 51,
     "metadata": {},
     "output_type": "execute_result"
    }
   ],
   "source": [
    "train.describe()"
   ]
  },
  {
   "cell_type": "code",
   "execution_count": 52,
   "metadata": {},
   "outputs": [
    {
     "data": {
      "text/html": [
       "<div>\n",
       "<style>\n",
       "    .dataframe thead tr:only-child th {\n",
       "        text-align: right;\n",
       "    }\n",
       "\n",
       "    .dataframe thead th {\n",
       "        text-align: left;\n",
       "    }\n",
       "\n",
       "    .dataframe tbody tr th {\n",
       "        vertical-align: top;\n",
       "    }\n",
       "</style>\n",
       "<table border=\"1\" class=\"dataframe\">\n",
       "  <thead>\n",
       "    <tr style=\"text-align: right;\">\n",
       "      <th></th>\n",
       "      <th>Id</th>\n",
       "      <th>MSSubClass</th>\n",
       "      <th>LotFrontage</th>\n",
       "      <th>LotArea</th>\n",
       "      <th>OverallQual</th>\n",
       "      <th>OverallCond</th>\n",
       "      <th>YearBuilt</th>\n",
       "      <th>YearRemodAdd</th>\n",
       "      <th>MasVnrArea</th>\n",
       "      <th>BsmtFinSF1</th>\n",
       "      <th>...</th>\n",
       "      <th>GarageArea</th>\n",
       "      <th>WoodDeckSF</th>\n",
       "      <th>OpenPorchSF</th>\n",
       "      <th>EnclosedPorch</th>\n",
       "      <th>3SsnPorch</th>\n",
       "      <th>ScreenPorch</th>\n",
       "      <th>PoolArea</th>\n",
       "      <th>MiscVal</th>\n",
       "      <th>MoSold</th>\n",
       "      <th>YrSold</th>\n",
       "    </tr>\n",
       "  </thead>\n",
       "  <tbody>\n",
       "    <tr>\n",
       "      <th>count</th>\n",
       "      <td>1459.000000</td>\n",
       "      <td>1459.000000</td>\n",
       "      <td>1232.000000</td>\n",
       "      <td>1459.000000</td>\n",
       "      <td>1459.000000</td>\n",
       "      <td>1459.000000</td>\n",
       "      <td>1459.000000</td>\n",
       "      <td>1459.000000</td>\n",
       "      <td>1444.000000</td>\n",
       "      <td>1458.000000</td>\n",
       "      <td>...</td>\n",
       "      <td>1458.000000</td>\n",
       "      <td>1459.000000</td>\n",
       "      <td>1459.000000</td>\n",
       "      <td>1459.000000</td>\n",
       "      <td>1459.000000</td>\n",
       "      <td>1459.000000</td>\n",
       "      <td>1459.000000</td>\n",
       "      <td>1459.000000</td>\n",
       "      <td>1459.000000</td>\n",
       "      <td>1459.000000</td>\n",
       "    </tr>\n",
       "    <tr>\n",
       "      <th>mean</th>\n",
       "      <td>2190.000000</td>\n",
       "      <td>57.378341</td>\n",
       "      <td>68.580357</td>\n",
       "      <td>9819.161069</td>\n",
       "      <td>6.078821</td>\n",
       "      <td>5.553804</td>\n",
       "      <td>1971.357779</td>\n",
       "      <td>1983.662783</td>\n",
       "      <td>100.709141</td>\n",
       "      <td>439.203704</td>\n",
       "      <td>...</td>\n",
       "      <td>472.768861</td>\n",
       "      <td>93.174777</td>\n",
       "      <td>48.313914</td>\n",
       "      <td>24.243317</td>\n",
       "      <td>1.794380</td>\n",
       "      <td>17.064428</td>\n",
       "      <td>1.744345</td>\n",
       "      <td>58.167923</td>\n",
       "      <td>6.104181</td>\n",
       "      <td>2007.769705</td>\n",
       "    </tr>\n",
       "    <tr>\n",
       "      <th>std</th>\n",
       "      <td>421.321334</td>\n",
       "      <td>42.746880</td>\n",
       "      <td>22.376841</td>\n",
       "      <td>4955.517327</td>\n",
       "      <td>1.436812</td>\n",
       "      <td>1.113740</td>\n",
       "      <td>30.390071</td>\n",
       "      <td>21.130467</td>\n",
       "      <td>177.625900</td>\n",
       "      <td>455.268042</td>\n",
       "      <td>...</td>\n",
       "      <td>217.048611</td>\n",
       "      <td>127.744882</td>\n",
       "      <td>68.883364</td>\n",
       "      <td>67.227765</td>\n",
       "      <td>20.207842</td>\n",
       "      <td>56.609763</td>\n",
       "      <td>30.491646</td>\n",
       "      <td>630.806978</td>\n",
       "      <td>2.722432</td>\n",
       "      <td>1.301740</td>\n",
       "    </tr>\n",
       "    <tr>\n",
       "      <th>min</th>\n",
       "      <td>1461.000000</td>\n",
       "      <td>20.000000</td>\n",
       "      <td>21.000000</td>\n",
       "      <td>1470.000000</td>\n",
       "      <td>1.000000</td>\n",
       "      <td>1.000000</td>\n",
       "      <td>1879.000000</td>\n",
       "      <td>1950.000000</td>\n",
       "      <td>0.000000</td>\n",
       "      <td>0.000000</td>\n",
       "      <td>...</td>\n",
       "      <td>0.000000</td>\n",
       "      <td>0.000000</td>\n",
       "      <td>0.000000</td>\n",
       "      <td>0.000000</td>\n",
       "      <td>0.000000</td>\n",
       "      <td>0.000000</td>\n",
       "      <td>0.000000</td>\n",
       "      <td>0.000000</td>\n",
       "      <td>1.000000</td>\n",
       "      <td>2006.000000</td>\n",
       "    </tr>\n",
       "    <tr>\n",
       "      <th>25%</th>\n",
       "      <td>1825.500000</td>\n",
       "      <td>20.000000</td>\n",
       "      <td>58.000000</td>\n",
       "      <td>7391.000000</td>\n",
       "      <td>5.000000</td>\n",
       "      <td>5.000000</td>\n",
       "      <td>1953.000000</td>\n",
       "      <td>1963.000000</td>\n",
       "      <td>0.000000</td>\n",
       "      <td>0.000000</td>\n",
       "      <td>...</td>\n",
       "      <td>318.000000</td>\n",
       "      <td>0.000000</td>\n",
       "      <td>0.000000</td>\n",
       "      <td>0.000000</td>\n",
       "      <td>0.000000</td>\n",
       "      <td>0.000000</td>\n",
       "      <td>0.000000</td>\n",
       "      <td>0.000000</td>\n",
       "      <td>4.000000</td>\n",
       "      <td>2007.000000</td>\n",
       "    </tr>\n",
       "    <tr>\n",
       "      <th>50%</th>\n",
       "      <td>2190.000000</td>\n",
       "      <td>50.000000</td>\n",
       "      <td>67.000000</td>\n",
       "      <td>9399.000000</td>\n",
       "      <td>6.000000</td>\n",
       "      <td>5.000000</td>\n",
       "      <td>1973.000000</td>\n",
       "      <td>1992.000000</td>\n",
       "      <td>0.000000</td>\n",
       "      <td>350.500000</td>\n",
       "      <td>...</td>\n",
       "      <td>480.000000</td>\n",
       "      <td>0.000000</td>\n",
       "      <td>28.000000</td>\n",
       "      <td>0.000000</td>\n",
       "      <td>0.000000</td>\n",
       "      <td>0.000000</td>\n",
       "      <td>0.000000</td>\n",
       "      <td>0.000000</td>\n",
       "      <td>6.000000</td>\n",
       "      <td>2008.000000</td>\n",
       "    </tr>\n",
       "    <tr>\n",
       "      <th>75%</th>\n",
       "      <td>2554.500000</td>\n",
       "      <td>70.000000</td>\n",
       "      <td>80.000000</td>\n",
       "      <td>11517.500000</td>\n",
       "      <td>7.000000</td>\n",
       "      <td>6.000000</td>\n",
       "      <td>2001.000000</td>\n",
       "      <td>2004.000000</td>\n",
       "      <td>164.000000</td>\n",
       "      <td>753.500000</td>\n",
       "      <td>...</td>\n",
       "      <td>576.000000</td>\n",
       "      <td>168.000000</td>\n",
       "      <td>72.000000</td>\n",
       "      <td>0.000000</td>\n",
       "      <td>0.000000</td>\n",
       "      <td>0.000000</td>\n",
       "      <td>0.000000</td>\n",
       "      <td>0.000000</td>\n",
       "      <td>8.000000</td>\n",
       "      <td>2009.000000</td>\n",
       "    </tr>\n",
       "    <tr>\n",
       "      <th>max</th>\n",
       "      <td>2919.000000</td>\n",
       "      <td>190.000000</td>\n",
       "      <td>200.000000</td>\n",
       "      <td>56600.000000</td>\n",
       "      <td>10.000000</td>\n",
       "      <td>9.000000</td>\n",
       "      <td>2010.000000</td>\n",
       "      <td>2010.000000</td>\n",
       "      <td>1290.000000</td>\n",
       "      <td>4010.000000</td>\n",
       "      <td>...</td>\n",
       "      <td>1488.000000</td>\n",
       "      <td>1424.000000</td>\n",
       "      <td>742.000000</td>\n",
       "      <td>1012.000000</td>\n",
       "      <td>360.000000</td>\n",
       "      <td>576.000000</td>\n",
       "      <td>800.000000</td>\n",
       "      <td>17000.000000</td>\n",
       "      <td>12.000000</td>\n",
       "      <td>2010.000000</td>\n",
       "    </tr>\n",
       "  </tbody>\n",
       "</table>\n",
       "<p>8 rows × 37 columns</p>\n",
       "</div>"
      ],
      "text/plain": [
       "                Id   MSSubClass  LotFrontage       LotArea  OverallQual  \\\n",
       "count  1459.000000  1459.000000  1232.000000   1459.000000  1459.000000   \n",
       "mean   2190.000000    57.378341    68.580357   9819.161069     6.078821   \n",
       "std     421.321334    42.746880    22.376841   4955.517327     1.436812   \n",
       "min    1461.000000    20.000000    21.000000   1470.000000     1.000000   \n",
       "25%    1825.500000    20.000000    58.000000   7391.000000     5.000000   \n",
       "50%    2190.000000    50.000000    67.000000   9399.000000     6.000000   \n",
       "75%    2554.500000    70.000000    80.000000  11517.500000     7.000000   \n",
       "max    2919.000000   190.000000   200.000000  56600.000000    10.000000   \n",
       "\n",
       "       OverallCond    YearBuilt  YearRemodAdd   MasVnrArea   BsmtFinSF1  \\\n",
       "count  1459.000000  1459.000000   1459.000000  1444.000000  1458.000000   \n",
       "mean      5.553804  1971.357779   1983.662783   100.709141   439.203704   \n",
       "std       1.113740    30.390071     21.130467   177.625900   455.268042   \n",
       "min       1.000000  1879.000000   1950.000000     0.000000     0.000000   \n",
       "25%       5.000000  1953.000000   1963.000000     0.000000     0.000000   \n",
       "50%       5.000000  1973.000000   1992.000000     0.000000   350.500000   \n",
       "75%       6.000000  2001.000000   2004.000000   164.000000   753.500000   \n",
       "max       9.000000  2010.000000   2010.000000  1290.000000  4010.000000   \n",
       "\n",
       "          ...        GarageArea   WoodDeckSF  OpenPorchSF  EnclosedPorch  \\\n",
       "count     ...       1458.000000  1459.000000  1459.000000    1459.000000   \n",
       "mean      ...        472.768861    93.174777    48.313914      24.243317   \n",
       "std       ...        217.048611   127.744882    68.883364      67.227765   \n",
       "min       ...          0.000000     0.000000     0.000000       0.000000   \n",
       "25%       ...        318.000000     0.000000     0.000000       0.000000   \n",
       "50%       ...        480.000000     0.000000    28.000000       0.000000   \n",
       "75%       ...        576.000000   168.000000    72.000000       0.000000   \n",
       "max       ...       1488.000000  1424.000000   742.000000    1012.000000   \n",
       "\n",
       "         3SsnPorch  ScreenPorch     PoolArea       MiscVal       MoSold  \\\n",
       "count  1459.000000  1459.000000  1459.000000   1459.000000  1459.000000   \n",
       "mean      1.794380    17.064428     1.744345     58.167923     6.104181   \n",
       "std      20.207842    56.609763    30.491646    630.806978     2.722432   \n",
       "min       0.000000     0.000000     0.000000      0.000000     1.000000   \n",
       "25%       0.000000     0.000000     0.000000      0.000000     4.000000   \n",
       "50%       0.000000     0.000000     0.000000      0.000000     6.000000   \n",
       "75%       0.000000     0.000000     0.000000      0.000000     8.000000   \n",
       "max     360.000000   576.000000   800.000000  17000.000000    12.000000   \n",
       "\n",
       "            YrSold  \n",
       "count  1459.000000  \n",
       "mean   2007.769705  \n",
       "std       1.301740  \n",
       "min    2006.000000  \n",
       "25%    2007.000000  \n",
       "50%    2008.000000  \n",
       "75%    2009.000000  \n",
       "max    2010.000000  \n",
       "\n",
       "[8 rows x 37 columns]"
      ]
     },
     "execution_count": 52,
     "metadata": {},
     "output_type": "execute_result"
    }
   ],
   "source": [
    "test.describe()"
   ]
  },
  {
   "cell_type": "code",
   "execution_count": 5,
   "metadata": {
    "collapsed": true
   },
   "outputs": [],
   "source": [
    "train_ID = train['Id']\n",
    "test_ID = test['Id']\n",
    "\n",
    "train.drop(\"Id\", axis = 1, inplace = True)\n",
    "test.drop(\"Id\", axis = 1, inplace = True)"
   ]
  },
  {
   "cell_type": "code",
   "execution_count": 6,
   "metadata": {
    "collapsed": true
   },
   "outputs": [],
   "source": [
    "test_ID.to_csv('test_id.csv')"
   ]
  },
  {
   "cell_type": "code",
   "execution_count": 7,
   "metadata": {},
   "outputs": [
    {
     "data": {
      "text/plain": [
       "<seaborn.axisgrid.JointGrid at 0x10760a470>"
      ]
     },
     "execution_count": 7,
     "metadata": {},
     "output_type": "execute_result"
    },
    {
     "data": {
      "image/png": "[encoded data removed]",
      "text/plain": [
       "<matplotlib.figure.Figure at 0x10760a320>"
      ]
     },
     "metadata": {},
     "output_type": "display_data"
    }
   ],
   "source": [
    "sns.jointplot(x=\"GrLivArea\", y=\"SalePrice\", data=train)"
   ]
  },
  {
   "cell_type": "markdown",
   "metadata": {},
   "source": [
    "From the descriptive thing:\n",
    "    \"There are 5 observations that an instructor may wish to remove from the data set before giving it to students (a plot of SALE PRICE versus GR LIV AREA will indicate them quickly). Three of them are true outliers (Partial Sales that likely don’t represent actual market values) and two of them are simply unusual sales (very large houses priced relatively appropriately).\""
   ]
  },
  {
   "cell_type": "code",
   "execution_count": 8,
   "metadata": {
    "collapsed": true
   },
   "outputs": [],
   "source": [
    "# outliers\n",
    "train = train.drop(train[(train['GrLivArea']>4000) & (train['SalePrice']<300000)].index)"
   ]
  },
  {
   "cell_type": "code",
   "execution_count": 9,
   "metadata": {},
   "outputs": [
    {
     "data": {
      "text/plain": [
       "<seaborn.axisgrid.JointGrid at 0x112bc6e10>"
      ]
     },
     "execution_count": 9,
     "metadata": {},
     "output_type": "execute_result"
    },
    {
     "data": {
      "image/png": "[encoded data removed]",
      "text/plain": [
       "<matplotlib.figure.Figure at 0x112bc64a8>"
      ]
     },
     "metadata": {},
     "output_type": "display_data"
    }
   ],
   "source": [
    "#replotting\n",
    "sns.jointplot(x =\"GrLivArea\", y=\"SalePrice\", data=train)"
   ]
  },
  {
   "cell_type": "code",
   "execution_count": 10,
   "metadata": {},
   "outputs": [
    {
     "data": {
      "image/png": "[encoded data removed]",
      "text/plain": [
       "<matplotlib.figure.Figure at 0x112bc6da0>"
      ]
     },
     "metadata": {},
     "output_type": "display_data"
    },
    {
     "data": {
      "image/png": "[encoded data removed]",
      "text/plain": [
       "<matplotlib.figure.Figure at 0x112bc6128>"
      ]
     },
     "metadata": {},
     "output_type": "display_data"
    }
   ],
   "source": [
    "sns.distplot(train['SalePrice'], fit=norm);\n",
    "fig = plt.figure()\n",
    "res = stats.probplot(train['SalePrice'], plot=plt)"
   ]
  },
  {
   "cell_type": "markdown",
   "metadata": {},
   "source": [
    "originally used boxcox here, but I couldn't get it to transform the predictions back to normal numbers, so ended up using log1p since it's easy to reverse with np.expm1"
   ]
  },
  {
   "cell_type": "code",
   "execution_count": 11,
   "metadata": {
    "collapsed": true
   },
   "outputs": [],
   "source": [
    "train[\"SalePrice\"] = np.log1p(train[\"SalePrice\"])"
   ]
  },
  {
   "cell_type": "code",
   "execution_count": 12,
   "metadata": {
    "collapsed": true
   },
   "outputs": [],
   "source": [
    "#from sklearn import preprocessing\n",
    "#from scipy.stats import boxcox"
   ]
  },
  {
   "cell_type": "code",
   "execution_count": 13,
   "metadata": {
    "collapsed": true
   },
   "outputs": [],
   "source": [
    "# correcting the skew and kurtosis on our SalePrice variable using BoxCox\n",
    "#train['SalePrice'] = preprocessing.scale(boxcox(train['SalePrice']+1)[0])"
   ]
  },
  {
   "cell_type": "code",
   "execution_count": 14,
   "metadata": {},
   "outputs": [
    {
     "data": {
      "image/png": "[encoded data removed]",
      "text/plain": [
       "<matplotlib.figure.Figure at 0x11373c630>"
      ]
     },
     "metadata": {},
     "output_type": "display_data"
    },
    {
     "data": {
      "image/png": "[encoded data removed]",
      "text/plain": [
       "<matplotlib.figure.Figure at 0x11373ce10>"
      ]
     },
     "metadata": {},
     "output_type": "display_data"
    }
   ],
   "source": [
    "sns.distplot(train['SalePrice'], fit=norm);\n",
    "fig = plt.figure()\n",
    "res = stats.probplot(train['SalePrice'], plot=plt)"
   ]
  },
  {
   "cell_type": "code",
   "execution_count": 15,
   "metadata": {},
   "outputs": [
    {
     "name": "stdout",
     "output_type": "stream",
     "text": [
      "data size is : (2917, 79)\n"
     ]
    }
   ],
   "source": [
    "ntrain = train.shape[0]\n",
    "ntest = test.shape[0]\n",
    "y_train = train.SalePrice.values\n",
    "data = pd.concat((train, test)).reset_index(drop=True)\n",
    "data.drop(['SalePrice'], axis=1, inplace=True)\n",
    "print(\"data size is : {}\".format(data.shape))"
   ]
  },
  {
   "cell_type": "markdown",
   "metadata": {},
   "source": [
    "# Dealing with Missingness"
   ]
  },
  {
   "cell_type": "markdown",
   "metadata": {},
   "source": [
    "This data set had a lot of missingness, but the data description that came with it basically showed us how to handle most of it"
   ]
  },
  {
   "cell_type": "code",
   "execution_count": 16,
   "metadata": {},
   "outputs": [
    {
     "data": {
      "text/html": [
       "<div>\n",
       "<style>\n",
       "    .dataframe thead tr:only-child th {\n",
       "        text-align: right;\n",
       "    }\n",
       "\n",
       "    .dataframe thead th {\n",
       "        text-align: left;\n",
       "    }\n",
       "\n",
       "    .dataframe tbody tr th {\n",
       "        vertical-align: top;\n",
       "    }\n",
       "</style>\n",
       "<table border=\"1\" class=\"dataframe\">\n",
       "  <thead>\n",
       "    <tr style=\"text-align: right;\">\n",
       "      <th></th>\n",
       "      <th>Total</th>\n",
       "      <th>Percent</th>\n",
       "    </tr>\n",
       "  </thead>\n",
       "  <tbody>\n",
       "    <tr>\n",
       "      <th>PoolQC</th>\n",
       "      <td>2908</td>\n",
       "      <td>99.691464</td>\n",
       "    </tr>\n",
       "    <tr>\n",
       "      <th>MiscFeature</th>\n",
       "      <td>2812</td>\n",
       "      <td>96.400411</td>\n",
       "    </tr>\n",
       "    <tr>\n",
       "      <th>Alley</th>\n",
       "      <td>2719</td>\n",
       "      <td>93.212204</td>\n",
       "    </tr>\n",
       "    <tr>\n",
       "      <th>Fence</th>\n",
       "      <td>2346</td>\n",
       "      <td>80.425094</td>\n",
       "    </tr>\n",
       "    <tr>\n",
       "      <th>FireplaceQu</th>\n",
       "      <td>1420</td>\n",
       "      <td>48.680151</td>\n",
       "    </tr>\n",
       "    <tr>\n",
       "      <th>LotFrontage</th>\n",
       "      <td>486</td>\n",
       "      <td>16.660953</td>\n",
       "    </tr>\n",
       "    <tr>\n",
       "      <th>GarageFinish</th>\n",
       "      <td>159</td>\n",
       "      <td>5.450806</td>\n",
       "    </tr>\n",
       "    <tr>\n",
       "      <th>GarageQual</th>\n",
       "      <td>159</td>\n",
       "      <td>5.450806</td>\n",
       "    </tr>\n",
       "    <tr>\n",
       "      <th>GarageYrBlt</th>\n",
       "      <td>159</td>\n",
       "      <td>5.450806</td>\n",
       "    </tr>\n",
       "    <tr>\n",
       "      <th>GarageCond</th>\n",
       "      <td>159</td>\n",
       "      <td>5.450806</td>\n",
       "    </tr>\n",
       "    <tr>\n",
       "      <th>GarageType</th>\n",
       "      <td>157</td>\n",
       "      <td>5.382242</td>\n",
       "    </tr>\n",
       "    <tr>\n",
       "      <th>BsmtCond</th>\n",
       "      <td>82</td>\n",
       "      <td>2.811107</td>\n",
       "    </tr>\n",
       "    <tr>\n",
       "      <th>BsmtExposure</th>\n",
       "      <td>82</td>\n",
       "      <td>2.811107</td>\n",
       "    </tr>\n",
       "    <tr>\n",
       "      <th>BsmtQual</th>\n",
       "      <td>81</td>\n",
       "      <td>2.776826</td>\n",
       "    </tr>\n",
       "    <tr>\n",
       "      <th>BsmtFinType2</th>\n",
       "      <td>80</td>\n",
       "      <td>2.742544</td>\n",
       "    </tr>\n",
       "    <tr>\n",
       "      <th>BsmtFinType1</th>\n",
       "      <td>79</td>\n",
       "      <td>2.708262</td>\n",
       "    </tr>\n",
       "    <tr>\n",
       "      <th>MasVnrType</th>\n",
       "      <td>24</td>\n",
       "      <td>0.822763</td>\n",
       "    </tr>\n",
       "    <tr>\n",
       "      <th>MasVnrArea</th>\n",
       "      <td>23</td>\n",
       "      <td>0.788481</td>\n",
       "    </tr>\n",
       "    <tr>\n",
       "      <th>MSZoning</th>\n",
       "      <td>4</td>\n",
       "      <td>0.137127</td>\n",
       "    </tr>\n",
       "    <tr>\n",
       "      <th>BsmtHalfBath</th>\n",
       "      <td>2</td>\n",
       "      <td>0.068564</td>\n",
       "    </tr>\n",
       "    <tr>\n",
       "      <th>Utilities</th>\n",
       "      <td>2</td>\n",
       "      <td>0.068564</td>\n",
       "    </tr>\n",
       "    <tr>\n",
       "      <th>Functional</th>\n",
       "      <td>2</td>\n",
       "      <td>0.068564</td>\n",
       "    </tr>\n",
       "    <tr>\n",
       "      <th>BsmtFullBath</th>\n",
       "      <td>2</td>\n",
       "      <td>0.068564</td>\n",
       "    </tr>\n",
       "    <tr>\n",
       "      <th>Electrical</th>\n",
       "      <td>1</td>\n",
       "      <td>0.034282</td>\n",
       "    </tr>\n",
       "    <tr>\n",
       "      <th>Exterior2nd</th>\n",
       "      <td>1</td>\n",
       "      <td>0.034282</td>\n",
       "    </tr>\n",
       "    <tr>\n",
       "      <th>KitchenQual</th>\n",
       "      <td>1</td>\n",
       "      <td>0.034282</td>\n",
       "    </tr>\n",
       "    <tr>\n",
       "      <th>GarageCars</th>\n",
       "      <td>1</td>\n",
       "      <td>0.034282</td>\n",
       "    </tr>\n",
       "    <tr>\n",
       "      <th>Exterior1st</th>\n",
       "      <td>1</td>\n",
       "      <td>0.034282</td>\n",
       "    </tr>\n",
       "    <tr>\n",
       "      <th>GarageArea</th>\n",
       "      <td>1</td>\n",
       "      <td>0.034282</td>\n",
       "    </tr>\n",
       "    <tr>\n",
       "      <th>TotalBsmtSF</th>\n",
       "      <td>1</td>\n",
       "      <td>0.034282</td>\n",
       "    </tr>\n",
       "    <tr>\n",
       "      <th>BsmtUnfSF</th>\n",
       "      <td>1</td>\n",
       "      <td>0.034282</td>\n",
       "    </tr>\n",
       "    <tr>\n",
       "      <th>BsmtFinSF2</th>\n",
       "      <td>1</td>\n",
       "      <td>0.034282</td>\n",
       "    </tr>\n",
       "    <tr>\n",
       "      <th>BsmtFinSF1</th>\n",
       "      <td>1</td>\n",
       "      <td>0.034282</td>\n",
       "    </tr>\n",
       "    <tr>\n",
       "      <th>SaleType</th>\n",
       "      <td>1</td>\n",
       "      <td>0.034282</td>\n",
       "    </tr>\n",
       "    <tr>\n",
       "      <th>Condition2</th>\n",
       "      <td>0</td>\n",
       "      <td>0.000000</td>\n",
       "    </tr>\n",
       "  </tbody>\n",
       "</table>\n",
       "</div>"
      ],
      "text/plain": [
       "              Total    Percent\n",
       "PoolQC         2908  99.691464\n",
       "MiscFeature    2812  96.400411\n",
       "Alley          2719  93.212204\n",
       "Fence          2346  80.425094\n",
       "FireplaceQu    1420  48.680151\n",
       "LotFrontage     486  16.660953\n",
       "GarageFinish    159   5.450806\n",
       "GarageQual      159   5.450806\n",
       "GarageYrBlt     159   5.450806\n",
       "GarageCond      159   5.450806\n",
       "GarageType      157   5.382242\n",
       "BsmtCond         82   2.811107\n",
       "BsmtExposure     82   2.811107\n",
       "BsmtQual         81   2.776826\n",
       "BsmtFinType2     80   2.742544\n",
       "BsmtFinType1     79   2.708262\n",
       "MasVnrType       24   0.822763\n",
       "MasVnrArea       23   0.788481\n",
       "MSZoning          4   0.137127\n",
       "BsmtHalfBath      2   0.068564\n",
       "Utilities         2   0.068564\n",
       "Functional        2   0.068564\n",
       "BsmtFullBath      2   0.068564\n",
       "Electrical        1   0.034282\n",
       "Exterior2nd       1   0.034282\n",
       "KitchenQual       1   0.034282\n",
       "GarageCars        1   0.034282\n",
       "Exterior1st       1   0.034282\n",
       "GarageArea        1   0.034282\n",
       "TotalBsmtSF       1   0.034282\n",
       "BsmtUnfSF         1   0.034282\n",
       "BsmtFinSF2        1   0.034282\n",
       "BsmtFinSF1        1   0.034282\n",
       "SaleType          1   0.034282\n",
       "Condition2        0   0.000000"
      ]
     },
     "execution_count": 16,
     "metadata": {},
     "output_type": "execute_result"
    }
   ],
   "source": [
    "total = data.isnull().sum().sort_values(ascending=False)\n",
    "percent = (data.isnull().sum()/data.isnull().count()*100).sort_values(ascending=False)\n",
    "missing = pd.concat([total, percent], axis=1, keys=['Total', 'Percent'])\n",
    "missing.head(35)"
   ]
  },
  {
   "cell_type": "markdown",
   "metadata": {},
   "source": [
    "Missing Features:\n",
    "    Alley: data desc says na means \"no alley access\"\n",
    "    BsmtQual, BsmtCond, BsmntExposure, BsmtFinType1, BsmtFinType2: data desc says NA means \"no basement\"\n",
    "    FireplaceQU: desc says NA means \"No Fireplace\"\n",
    "    GarageType, GarageFinish,GaraGarageQual, GarageCond: desc says NA means \"No Garage\"\n",
    "    PoolQC: desc says NA means \"No Pool\"\n",
    "    Fence: desc says NA means \"No Fence\"\n",
    "    MiscFeature: desc says NA means \"None\""
   ]
  },
  {
   "cell_type": "code",
   "execution_count": 17,
   "metadata": {
    "collapsed": true
   },
   "outputs": [],
   "source": [
    "data[\"Alley\"] = data[\"Alley\"].fillna(\"None\")\n",
    "data[\"BsmtQual\"] = data[\"BsmtQual\"].fillna(\"None\")\n",
    "data[\"BsmtCond\"] = data[\"BsmtCond\"].fillna(\"None\")\n",
    "data[\"BsmtExposure\"] = data[\"BsmtExposure\"].fillna(\"None\")\n",
    "data[\"BsmtFinType1\"] = data[\"BsmtFinType1\"].fillna(\"None\")\n",
    "data[\"BsmtFinType2\"] = data[\"BsmtFinType2\"].fillna(\"None\")"
   ]
  },
  {
   "cell_type": "code",
   "execution_count": 18,
   "metadata": {
    "collapsed": true
   },
   "outputs": [],
   "source": [
    "data[\"FireplaceQu\"] = data[\"FireplaceQu\"].fillna(\"None\")\n",
    "data[\"GarageType\"] = data[\"GarageType\"].fillna(\"None\")\n",
    "data[\"GarageFinish\"] = data[\"GarageFinish\"].fillna(\"None\")\n",
    "data[\"GarageQual\"] = data[\"GarageQual\"].fillna(\"None\")\n",
    "data[\"GarageCond\"] = data[\"GarageCond\"].fillna(\"None\")\n",
    "data[\"PoolQC\"] = data[\"PoolQC\"].fillna(\"None\")\n",
    "data[\"Fence\"] = data[\"Fence\"].fillna(\"None\")\n",
    "data[\"MiscFeature\"] = data[\"MiscFeature\"].fillna(\"None\")"
   ]
  },
  {
   "cell_type": "code",
   "execution_count": 19,
   "metadata": {},
   "outputs": [
    {
     "data": {
      "text/html": [
       "<div>\n",
       "<style>\n",
       "    .dataframe thead tr:only-child th {\n",
       "        text-align: right;\n",
       "    }\n",
       "\n",
       "    .dataframe thead th {\n",
       "        text-align: left;\n",
       "    }\n",
       "\n",
       "    .dataframe tbody tr th {\n",
       "        vertical-align: top;\n",
       "    }\n",
       "</style>\n",
       "<table border=\"1\" class=\"dataframe\">\n",
       "  <thead>\n",
       "    <tr style=\"text-align: right;\">\n",
       "      <th></th>\n",
       "      <th>Total</th>\n",
       "      <th>Percent</th>\n",
       "    </tr>\n",
       "  </thead>\n",
       "  <tbody>\n",
       "    <tr>\n",
       "      <th>LotFrontage</th>\n",
       "      <td>486</td>\n",
       "      <td>16.660953</td>\n",
       "    </tr>\n",
       "    <tr>\n",
       "      <th>GarageYrBlt</th>\n",
       "      <td>159</td>\n",
       "      <td>5.450806</td>\n",
       "    </tr>\n",
       "    <tr>\n",
       "      <th>MasVnrType</th>\n",
       "      <td>24</td>\n",
       "      <td>0.822763</td>\n",
       "    </tr>\n",
       "    <tr>\n",
       "      <th>MasVnrArea</th>\n",
       "      <td>23</td>\n",
       "      <td>0.788481</td>\n",
       "    </tr>\n",
       "    <tr>\n",
       "      <th>MSZoning</th>\n",
       "      <td>4</td>\n",
       "      <td>0.137127</td>\n",
       "    </tr>\n",
       "    <tr>\n",
       "      <th>Functional</th>\n",
       "      <td>2</td>\n",
       "      <td>0.068564</td>\n",
       "    </tr>\n",
       "    <tr>\n",
       "      <th>Utilities</th>\n",
       "      <td>2</td>\n",
       "      <td>0.068564</td>\n",
       "    </tr>\n",
       "    <tr>\n",
       "      <th>BsmtFullBath</th>\n",
       "      <td>2</td>\n",
       "      <td>0.068564</td>\n",
       "    </tr>\n",
       "  </tbody>\n",
       "</table>\n",
       "</div>"
      ],
      "text/plain": [
       "              Total    Percent\n",
       "LotFrontage     486  16.660953\n",
       "GarageYrBlt     159   5.450806\n",
       "MasVnrType       24   0.822763\n",
       "MasVnrArea       23   0.788481\n",
       "MSZoning          4   0.137127\n",
       "Functional        2   0.068564\n",
       "Utilities         2   0.068564\n",
       "BsmtFullBath      2   0.068564"
      ]
     },
     "execution_count": 19,
     "metadata": {},
     "output_type": "execute_result"
    }
   ],
   "source": [
    "total = data.isnull().sum().sort_values(ascending=False)\n",
    "percent = (data.isnull().sum()/data.isnull().count()*100).sort_values(ascending=False)\n",
    "missing = pd.concat([total, percent], axis=1, keys=['Total', 'Percent'])\n",
    "missing.head(8)"
   ]
  },
  {
   "cell_type": "code",
   "execution_count": 20,
   "metadata": {
    "scrolled": true
   },
   "outputs": [
    {
     "data": {
      "image/png": "[encoded data removed]",
      "text/plain": [
       "<matplotlib.figure.Figure at 0x1138c3f28>"
      ]
     },
     "metadata": {},
     "output_type": "display_data"
    },
    {
     "data": {
      "text/plain": [
       "<matplotlib.figure.Figure at 0x1136701d0>"
      ]
     },
     "metadata": {},
     "output_type": "display_data"
    }
   ],
   "source": [
    "sns.barplot(data=data,x='Neighborhood',y='LotFrontage', estimator=np.median)\n",
    "plt.xticks(rotation=90)\n",
    "plt.show()\n",
    "plt.gcf().clear()"
   ]
  },
  {
   "cell_type": "markdown",
   "metadata": {},
   "source": [
    "neighborhood seems a pretty good at determining lot frontage- using the mean neighborhood lot frontage to impute the missing lot frontages"
   ]
  },
  {
   "cell_type": "code",
   "execution_count": 21,
   "metadata": {
    "collapsed": true
   },
   "outputs": [],
   "source": [
    "data[\"LotFrontage\"] = data.groupby(\"Neighborhood\")[\"LotFrontage\"].transform(\n",
    "    lambda x: x.fillna(x.median()))"
   ]
  },
  {
   "cell_type": "code",
   "execution_count": 22,
   "metadata": {
    "collapsed": true
   },
   "outputs": [],
   "source": [
    "data[\"GarageYrBlt\"] = data[\"GarageYrBlt\"].fillna(0)"
   ]
  },
  {
   "cell_type": "markdown",
   "metadata": {},
   "source": [
    "most likely no basement so setting these basement measurements to zero"
   ]
  },
  {
   "cell_type": "code",
   "execution_count": 23,
   "metadata": {
    "collapsed": true
   },
   "outputs": [],
   "source": [
    "for col in ('BsmtFinSF1', 'BsmtFinSF2', 'BsmtUnfSF','TotalBsmtSF', 'BsmtFullBath', 'BsmtHalfBath'):\n",
    "    data[col] = data[col].fillna(0)"
   ]
  },
  {
   "cell_type": "markdown",
   "metadata": {},
   "source": [
    "Probably no masonry veneer for these houses so setting to 0 or none"
   ]
  },
  {
   "cell_type": "code",
   "execution_count": 24,
   "metadata": {
    "collapsed": true
   },
   "outputs": [],
   "source": [
    "data[\"MasVnrType\"] = data[\"MasVnrType\"].fillna(\"None\")\n",
    "data[\"MasVnrArea\"] = data[\"MasVnrArea\"].fillna(0)"
   ]
  },
  {
   "cell_type": "markdown",
   "metadata": {},
   "source": [
    "filling the 4 missing zoning's with residential- the most common seen zoning type"
   ]
  },
  {
   "cell_type": "code",
   "execution_count": 25,
   "metadata": {
    "collapsed": true
   },
   "outputs": [],
   "source": [
    "data['MSZoning'] = data['MSZoning'].fillna(data['MSZoning'].mode()[0])"
   ]
  },
  {
   "cell_type": "markdown",
   "metadata": {},
   "source": [
    "trying dropping utilities to see if this improves accuracy"
   ]
  },
  {
   "cell_type": "code",
   "execution_count": 26,
   "metadata": {
    "collapsed": true
   },
   "outputs": [],
   "source": [
    "data = data.drop(['Utilities'], axis=1)"
   ]
  },
  {
   "cell_type": "markdown",
   "metadata": {},
   "source": [
    "filling missing functional with most common type (typ)"
   ]
  },
  {
   "cell_type": "code",
   "execution_count": 27,
   "metadata": {
    "collapsed": true
   },
   "outputs": [],
   "source": [
    "data['Functional'] = data['Functional'].fillna(\"Typ\")"
   ]
  },
  {
   "cell_type": "markdown",
   "metadata": {},
   "source": [
    "removing missing garage cars and area"
   ]
  },
  {
   "cell_type": "code",
   "execution_count": 28,
   "metadata": {
    "collapsed": true
   },
   "outputs": [],
   "source": [
    "data['GarageCars'] = data['GarageCars'].fillna(0)\n",
    "data['GarageArea'] = data['GarageArea'].fillna(0)"
   ]
  },
  {
   "cell_type": "markdown",
   "metadata": {},
   "source": [
    "filling the remaining missing values by the most commonly seen value"
   ]
  },
  {
   "cell_type": "code",
   "execution_count": 29,
   "metadata": {
    "collapsed": true
   },
   "outputs": [],
   "source": [
    "data['Exterior1st'] = data['Exterior1st'].fillna(data['Exterior1st'].mode()[0])\n",
    "data['Exterior2nd'] = data['Exterior2nd'].fillna(data['Exterior2nd'].mode()[0])\n",
    "data['KitchenQual'] = data['KitchenQual'].fillna(data['KitchenQual'].mode()[0])\n",
    "data['SaleType'] = data['SaleType'].fillna(data['SaleType'].mode()[0])\n",
    "data['Electrical'] = data['Electrical'].fillna(data['Electrical'].mode()[0])"
   ]
  },
  {
   "cell_type": "code",
   "execution_count": 30,
   "metadata": {
    "collapsed": true
   },
   "outputs": [],
   "source": [
    "data['Functional'] = data['Functional'].fillna(data['Functional'].mode()[0])"
   ]
  },
  {
   "cell_type": "code",
   "execution_count": 31,
   "metadata": {},
   "outputs": [
    {
     "data": {
      "text/html": [
       "<div>\n",
       "<style>\n",
       "    .dataframe thead tr:only-child th {\n",
       "        text-align: right;\n",
       "    }\n",
       "\n",
       "    .dataframe thead th {\n",
       "        text-align: left;\n",
       "    }\n",
       "\n",
       "    .dataframe tbody tr th {\n",
       "        vertical-align: top;\n",
       "    }\n",
       "</style>\n",
       "<table border=\"1\" class=\"dataframe\">\n",
       "  <thead>\n",
       "    <tr style=\"text-align: right;\">\n",
       "      <th></th>\n",
       "      <th>Total</th>\n",
       "      <th>Percent</th>\n",
       "    </tr>\n",
       "  </thead>\n",
       "  <tbody>\n",
       "    <tr>\n",
       "      <th>YrSold</th>\n",
       "      <td>0</td>\n",
       "      <td>0.0</td>\n",
       "    </tr>\n",
       "    <tr>\n",
       "      <th>Foundation</th>\n",
       "      <td>0</td>\n",
       "      <td>0.0</td>\n",
       "    </tr>\n",
       "    <tr>\n",
       "      <th>ExterCond</th>\n",
       "      <td>0</td>\n",
       "      <td>0.0</td>\n",
       "    </tr>\n",
       "    <tr>\n",
       "      <th>ExterQual</th>\n",
       "      <td>0</td>\n",
       "      <td>0.0</td>\n",
       "    </tr>\n",
       "    <tr>\n",
       "      <th>Exterior1st</th>\n",
       "      <td>0</td>\n",
       "      <td>0.0</td>\n",
       "    </tr>\n",
       "  </tbody>\n",
       "</table>\n",
       "</div>"
      ],
      "text/plain": [
       "             Total  Percent\n",
       "YrSold           0      0.0\n",
       "Foundation       0      0.0\n",
       "ExterCond        0      0.0\n",
       "ExterQual        0      0.0\n",
       "Exterior1st      0      0.0"
      ]
     },
     "execution_count": 31,
     "metadata": {},
     "output_type": "execute_result"
    }
   ],
   "source": [
    "total = data.isnull().sum().sort_values(ascending=False)\n",
    "percent = (data.isnull().sum()/data.isnull().count()*100).sort_values(ascending=False)\n",
    "missing = pd.concat([total, percent], axis=1, keys=['Total', 'Percent'])\n",
    "missing.head()"
   ]
  },
  {
   "cell_type": "markdown",
   "metadata": {},
   "source": [
    "OK, all the missingness is taken care of!"
   ]
  },
  {
   "cell_type": "code",
   "execution_count": 79,
   "metadata": {
    "collapsed": true
   },
   "outputs": [],
   "source": [
    "# data_corr = data.corr()"
   ]
  },
  {
   "cell_type": "code",
   "execution_count": 137,
   "metadata": {
    "collapsed": true
   },
   "outputs": [],
   "source": [
    "# data_corr"
   ]
  },
  {
   "cell_type": "markdown",
   "metadata": {},
   "source": [
    "# Feature Engineering"
   ]
  },
  {
   "cell_type": "markdown",
   "metadata": {},
   "source": [
    "transforming year and month into categorical features"
   ]
  },
  {
   "cell_type": "code",
   "execution_count": 32,
   "metadata": {
    "collapsed": true
   },
   "outputs": [],
   "source": [
    "data['YrSold'] = data['YrSold'].astype(str)\n",
    "data['MoSold'] = data['MoSold'].astype(str)"
   ]
  },
  {
   "cell_type": "markdown",
   "metadata": {},
   "source": [
    "gonna try putting overall condition as categorical"
   ]
  },
  {
   "cell_type": "code",
   "execution_count": 33,
   "metadata": {
    "collapsed": true
   },
   "outputs": [],
   "source": [
    "data['OverallCond'] = data['OverallCond'].astype(str)"
   ]
  },
  {
   "cell_type": "markdown",
   "metadata": {},
   "source": [
    "MSSubClass should be categorical as well"
   ]
  },
  {
   "cell_type": "code",
   "execution_count": 34,
   "metadata": {
    "collapsed": true
   },
   "outputs": [],
   "source": [
    "data['MSSubClass'] = data['MSSubClass'].astype(str)"
   ]
  },
  {
   "cell_type": "markdown",
   "metadata": {},
   "source": [
    "overall SF? we have TotalBsmtSF, 1stFlrSF and 2ndFlrSF\n",
    "might be worth putting them together into a \"overall SF\"category?"
   ]
  },
  {
   "cell_type": "code",
   "execution_count": 35,
   "metadata": {
    "collapsed": true
   },
   "outputs": [],
   "source": [
    "data['OverallSF'] = data['1stFlrSF'] + data['2ndFlrSF'] + data['TotalBsmtSF']"
   ]
  },
  {
   "cell_type": "markdown",
   "metadata": {},
   "source": [
    "going to try combining categorical data with it's quality:\n",
    "BsmtQual * BsmtCond\n",
    "OverallQual * Neighborhood\n",
    "Condition1 * Condition2\n",
    "BldgType * OverallQual\n",
    "ExterQual * ExterCond\n",
    "KitchenQual * OverallQual\n",
    "GarageType * GarageQual\n",
    "GarageType * GarageCond\n",
    "MoSold * YrSold\n",
    "SaleType * SaleCondition\n",
    "SaleType * OverallCond"
   ]
  },
  {
   "cell_type": "markdown",
   "metadata": {},
   "source": [
    "Here's some more features that I thought might be related:"
   ]
  },
  {
   "cell_type": "code",
   "execution_count": 36,
   "metadata": {
    "collapsed": true
   },
   "outputs": [],
   "source": [
    "data['BsmnQual_BsmtCond'] = data['BsmtQual'] + data['BsmtCond']\n",
    "#data['OverallQual_Neighborhood'] = data['OverallQual'] + data['Neighborhood']\n",
    "data['Condition1_Condition2'] = data['Condition1'] + data['Condition2']\n",
    "#data['BldgType_OverallQual'] = data['BldgType'] + data['OverallQual']\n",
    "data['ExterQual_ExterCond'] = data['ExterQual'] + data['ExterCond']\n",
    "#data['KitchenQual_OverallQual'] = data['KitchenQual'] + data['OverallQual']\n",
    "#data['GarageType_GarageQual'] = data['GarageType'] + data['GarageQual']\n",
    "#data['GarageType_GarageCond'] = data['GarageType'] + data['GarageCond']\n",
    "data['MoSold_YrSold'] = data['MoSold'] + data['YrSold']\n",
    "data['SaleType_SaleCondition'] = data['SaleType'] + data['SaleCondition']\n",
    "data['SaleType_OverallCond'] = data['SaleType'] + data['OverallCond']"
   ]
  },
  {
   "cell_type": "markdown",
   "metadata": {},
   "source": [
    "with all but garageType_garageQual and MoSold_YrSold turned off, I got .12000, which insinuates there's something here that increases my accuracy."
   ]
  },
  {
   "cell_type": "markdown",
   "metadata": {},
   "source": [
    "# Figuring out what to do with Nominal & Ordinal Categories"
   ]
  },
  {
   "cell_type": "markdown",
   "metadata": {},
   "source": [
    "According to the Data Documentation this is the breakdown on the Nominal and Ordinal Categories:"
   ]
  },
  {
   "cell_type": "markdown",
   "metadata": {},
   "source": [
    "Nomial categories"
   ]
  },
  {
   "cell_type": "markdown",
   "metadata": {},
   "source": [
    "\"MSSubClass\", MSZoning, \"Street\", \"Alley\", LandContour, LotConfig, Neighborhood, Condition1, Condition2, BldgType, HouseStyle, RoofStyle, RoofMatl, Exterior1, Exterior2, MasVnrType, MasVnrArea, Foundation, Heating, \"CentralAir\", GarageType, MiscFeature, SaleType, SaleCondition"
   ]
  },
  {
   "cell_type": "markdown",
   "metadata": {},
   "source": [
    "Ordinal Categories"
   ]
  },
  {
   "cell_type": "markdown",
   "metadata": {},
   "source": [
    "LotShape, Utilities, LandSlope, OverallQual, OverallCond, ExterQual, ExterCond, BsmtQual, BsmtCond, BsmtExposure, BsmtFinType1, BsmtFinType2, HeatingQC, Electrical, KitchenQual, Functional, FireplaceQu, GarageFinish, GarageQual, GarageCond, PavedDrive, PoolQC, Fence"
   ]
  },
  {
   "cell_type": "markdown",
   "metadata": {},
   "source": [
    "We learned to use One-Hot Encoding for linear models and \n",
    "label encoder for trees, but since i'm trying to use a mix of different models i'm going to use Label Encoding for the ordinal categories- categories where the order of the data might matter, then One-Hot Encoding for the nominal categories"
   ]
  },
  {
   "cell_type": "code",
   "execution_count": 37,
   "metadata": {
    "collapsed": true
   },
   "outputs": [],
   "source": [
    "from sklearn.preprocessing import LabelEncoder\n",
    "category = ('LotShape', 'LandSlope', 'OverallCond', 'ExterQual', 'ExterCond', \n",
    "            'BsmtQual', 'BsmtCond', 'BsmtExposure', 'BsmtFinType1', 'BsmtFinType2',\n",
    "            'HeatingQC', 'KitchenQual', 'Functional', 'FireplaceQu', 'GarageFinish',\n",
    "            'GarageQual', 'GarageCond', 'PavedDrive', 'PoolQC', 'Fence', 'OverallCond', \n",
    "            'YrSold', 'MoSold', 'Street', 'Alley', 'CentralAir', 'MSSubClass')\n",
    "\n",
    "for c in category:\n",
    "    lbl = LabelEncoder()\n",
    "    lbl.fit(list(data[c].values))\n",
    "    data[c] = lbl.transform(list(data[c].values))"
   ]
  },
  {
   "cell_type": "markdown",
   "metadata": {},
   "source": [
    "# Skewness"
   ]
  },
  {
   "cell_type": "markdown",
   "metadata": {},
   "source": [
    "Right, so originally we thought that we'd try and fix the Skew of our independant variables, since linear regressions (which are my focus) are highly succeptible to outliers. Unfortunately, this formula only improved the positively skewed variables.  the negatively skewed variables only got worse. I tried running this but instead of increasing our score it hurt it. so we ended up taking this out of our final version.  Given more time, I'd probably try log transforming individual categories then spot-check them."
   ]
  },
  {
   "cell_type": "code",
   "execution_count": 88,
   "metadata": {
    "collapsed": true
   },
   "outputs": [],
   "source": [
    "numerical = data.dtypes[data.dtypes != \"object\"].index"
   ]
  },
  {
   "cell_type": "code",
   "execution_count": 89,
   "metadata": {
    "collapsed": true
   },
   "outputs": [],
   "source": [
    "skewed = data[numerical].apply(lambda x: x.skew()).sort_values()"
   ]
  },
  {
   "cell_type": "code",
   "execution_count": 90,
   "metadata": {},
   "outputs": [
    {
     "data": {
      "text/plain": [
       "PoolQC          -21.228518\n",
       "Street          -15.502729\n",
       "Functional       -4.056212\n",
       "GarageYrBlt      -3.906642\n",
       "GarageCond       -3.596139\n",
       "CentralAir       -3.459334\n",
       "GarageQual       -3.074369\n",
       "BsmtFinType2     -3.044545\n",
       "PavedDrive       -2.979273\n",
       "BsmtCond         -2.862744\n",
       "ExterCond        -2.497774\n",
       "Fence            -1.993675\n",
       "ExterQual        -1.800989\n",
       "KitchenQual      -1.450560\n",
       "BsmtExposure     -1.117896\n",
       "Alley            -0.652041\n",
       "MoSold           -0.646506\n",
       "LotShape         -0.618882\n",
       "GarageFinish     -0.610267\n",
       "YearBuilt        -0.599503\n",
       "BsmtQual         -0.488614\n",
       "YearRemodAdd     -0.450365\n",
       "GarageCars       -0.219410\n",
       "BsmtFinType1      0.083684\n",
       "YrSold            0.132064\n",
       "MSSubClass        0.139781\n",
       "FullBath          0.165599\n",
       "OverallQual       0.189688\n",
       "GarageArea        0.216968\n",
       "BedroomAbvGr      0.326736\n",
       "FireplaceQu       0.332782\n",
       "HeatingQC         0.485784\n",
       "OverallCond       0.569607\n",
       "BsmtFullBath      0.622735\n",
       "TotalBsmtSF       0.672097\n",
       "HalfBath          0.697024\n",
       "Fireplaces        0.725651\n",
       "TotRmsAbvGrd      0.749618\n",
       "2ndFlrSF          0.861999\n",
       "BsmtUnfSF         0.920161\n",
       "BsmtFinSF1        0.981149\n",
       "OverallSF         1.009676\n",
       "GrLivArea         1.069300\n",
       "LotFrontage       1.103606\n",
       "1stFlrSF          1.257933\n",
       "WoodDeckSF        1.845741\n",
       "OpenPorchSF       2.530660\n",
       "MasVnrArea        2.623068\n",
       "BsmtHalfBath      3.932018\n",
       "ScreenPorch       3.947131\n",
       "EnclosedPorch     4.004404\n",
       "BsmtFinSF2        4.146636\n",
       "KitchenAbvGr      4.302763\n",
       "LandSlope         4.975813\n",
       "3SsnPorch        11.377932\n",
       "LowQualFinSF     12.090757\n",
       "LotArea          13.116240\n",
       "PoolArea         17.697766\n",
       "MiscVal          21.950962\n",
       "dtype: float64"
      ]
     },
     "execution_count": 90,
     "metadata": {},
     "output_type": "execute_result"
    }
   ],
   "source": [
    "skewed"
   ]
  },
  {
   "cell_type": "code",
   "execution_count": 91,
   "metadata": {},
   "outputs": [
    {
     "data": {
      "text/html": [
       "<div>\n",
       "<style>\n",
       "    .dataframe thead tr:only-child th {\n",
       "        text-align: right;\n",
       "    }\n",
       "\n",
       "    .dataframe thead th {\n",
       "        text-align: left;\n",
       "    }\n",
       "\n",
       "    .dataframe tbody tr th {\n",
       "        vertical-align: top;\n",
       "    }\n",
       "</style>\n",
       "<table border=\"1\" class=\"dataframe\">\n",
       "  <thead>\n",
       "    <tr style=\"text-align: right;\">\n",
       "      <th></th>\n",
       "      <th>Skew</th>\n",
       "    </tr>\n",
       "  </thead>\n",
       "  <tbody>\n",
       "    <tr>\n",
       "      <th>PoolQC</th>\n",
       "      <td>-21.228518</td>\n",
       "    </tr>\n",
       "    <tr>\n",
       "      <th>Street</th>\n",
       "      <td>-15.502729</td>\n",
       "    </tr>\n",
       "    <tr>\n",
       "      <th>Functional</th>\n",
       "      <td>-4.056212</td>\n",
       "    </tr>\n",
       "  </tbody>\n",
       "</table>\n",
       "</div>"
      ],
      "text/plain": [
       "                 Skew\n",
       "PoolQC     -21.228518\n",
       "Street     -15.502729\n",
       "Functional  -4.056212"
      ]
     },
     "execution_count": 91,
     "metadata": {},
     "output_type": "execute_result"
    }
   ],
   "source": [
    "# skewdf = pd.DataFrame({'Skew': skewed})\n",
    "# skewdf.head(3)"
   ]
  },
  {
   "cell_type": "code",
   "execution_count": 134,
   "metadata": {
    "collapsed": true
   },
   "outputs": [],
   "source": [
    "# skewdf = skewdf[(skewdf)>0.75]\n",
    "# from scipy.special import boxcox1p\n",
    "# skewed = skewdf.index\n",
    "# lam = 0.15\n",
    "# for feat in skewed:\n",
    "#     data[feat] = boxcox1p(data[feat], lam)"
   ]
  },
  {
   "cell_type": "code",
   "execution_count": 46,
   "metadata": {
    "collapsed": true
   },
   "outputs": [],
   "source": [
    "#newskewed = data[numerical].apply(lambda x: x.skew()).sort_values()"
   ]
  },
  {
   "cell_type": "code",
   "execution_count": 47,
   "metadata": {},
   "outputs": [
    {
     "data": {
      "text/plain": [
       "PoolQC          -22.835591\n",
       "Street          -15.502729\n",
       "Functional       -5.127355\n",
       "GarageCond       -4.176566\n",
       "TotalBsmtSF      -3.987517\n",
       "GarageYrBlt      -3.925767\n",
       "BsmtFinType2     -3.772005\n",
       "CentralAir       -3.459334\n",
       "GarageQual       -3.442342\n",
       "BsmtCond         -3.229921\n",
       "PavedDrive       -3.065684\n",
       "GarageArea       -3.046366\n",
       "ExterCond        -3.015035\n",
       "ExterQual        -2.855404\n",
       "Alley            -2.628308\n",
       "Fence            -2.538703\n",
       "KitchenQual      -2.207198\n",
       "BsmtUnfSF        -1.538077\n",
       "MoSold           -1.486383\n",
       "BsmtExposure     -1.408804\n",
       "MSSubClass       -1.292497\n",
       "BsmtQual         -1.267743\n",
       "GarageCars       -1.106936\n",
       "OverallCond      -0.929905\n",
       "GarageFinish     -0.856086\n",
       "FireplaceQu      -0.806556\n",
       "LotFrontage      -0.799316\n",
       "BedroomAbvGr     -0.753856\n",
       "LotShape         -0.646599\n",
       "YearBuilt        -0.621941\n",
       "BsmtFinType1     -0.490562\n",
       "OverallQual      -0.489180\n",
       "BsmtFinSF1       -0.489117\n",
       "YearRemodAdd     -0.456434\n",
       "YrSold           -0.400841\n",
       "OverallSF        -0.208110\n",
       "FullBath         -0.180186\n",
       "OpenPorchSF       0.099432\n",
       "GrLivArea         0.130118\n",
       "TotRmsAbvGrd      0.135559\n",
       "LotArea           0.177826\n",
       "1stFlrSF          0.179210\n",
       "WoodDeckSF        0.224297\n",
       "Fireplaces        0.285457\n",
       "HeatingQC         0.286591\n",
       "2ndFlrSF          0.329048\n",
       "BsmtFullBath      0.442015\n",
       "HalfBath          0.592853\n",
       "MasVnrArea        0.637716\n",
       "EnclosedPorch     2.025363\n",
       "BsmtFinSF2        2.564554\n",
       "ScreenPorch       2.978584\n",
       "KitchenAbvGr      3.699206\n",
       "BsmtHalfBath      3.788634\n",
       "LandSlope         4.532595\n",
       "MiscVal           5.597842\n",
       "LowQualFinSF      8.745528\n",
       "3SsnPorch         8.926241\n",
       "PoolArea         15.767638\n",
       "dtype: float64"
      ]
     },
     "execution_count": 47,
     "metadata": {},
     "output_type": "execute_result"
    }
   ],
   "source": [
    "#newskewed"
   ]
  },
  {
   "cell_type": "markdown",
   "metadata": {},
   "source": [
    "get_dummies() is just one hot encoding the nominal categories"
   ]
  },
  {
   "cell_type": "code",
   "execution_count": 38,
   "metadata": {
    "collapsed": true
   },
   "outputs": [],
   "source": [
    "data = pd.get_dummies(data)"
   ]
  },
  {
   "cell_type": "code",
   "execution_count": 39,
   "metadata": {},
   "outputs": [
    {
     "data": {
      "text/plain": [
       "(2917, 401)"
      ]
     },
     "execution_count": 39,
     "metadata": {},
     "output_type": "execute_result"
    }
   ],
   "source": [
    "data.shape"
   ]
  },
  {
   "cell_type": "markdown",
   "metadata": {},
   "source": [
    "Re-separating the data into test and train"
   ]
  },
  {
   "cell_type": "code",
   "execution_count": 40,
   "metadata": {
    "collapsed": true
   },
   "outputs": [],
   "source": [
    "train = data[:ntrain]\n",
    "test = data[ntrain:]"
   ]
  },
  {
   "cell_type": "markdown",
   "metadata": {},
   "source": [
    "# Running the Models"
   ]
  },
  {
   "cell_type": "code",
   "execution_count": 41,
   "metadata": {
    "collapsed": true
   },
   "outputs": [],
   "source": [
    "# Load libraries\n",
    "from sklearn.linear_model import ElasticNet, Lasso,  BayesianRidge, LassoLarsIC\n",
    "from sklearn.ensemble import RandomForestRegressor as rfr,  GradientBoostingRegressor\n",
    "from sklearn.kernel_ridge import KernelRidge\n",
    "from sklearn.pipeline import make_pipeline\n",
    "from sklearn.preprocessing import RobustScaler\n",
    "from sklearn.base import BaseEstimator, TransformerMixin, RegressorMixin, clone\n",
    "from sklearn.model_selection import KFold, cross_val_score, train_test_split\n",
    "from sklearn.metrics import mean_squared_error"
   ]
  },
  {
   "cell_type": "markdown",
   "metadata": {},
   "source": [
    "Got this from a kaggler- it's pretty handy, letting us select the number of folds and letting us shuffle the data when we run it"
   ]
  },
  {
   "cell_type": "code",
   "execution_count": 42,
   "metadata": {
    "collapsed": true
   },
   "outputs": [],
   "source": [
    "n_folds = 10\n",
    "#this looks better, lets me use kfolds\n",
    "def rmsle_cv(model):\n",
    "    kf = KFold(n_folds, shuffle=True, random_state=1).get_n_splits(train.values)\n",
    "    rmse= np.sqrt(-cross_val_score(model, train.values, y_train, scoring=\"neg_mean_squared_error\", cv = kf))\n",
    "    return(rmse)\n",
    "\n",
    "#def rmse(predictions, targets):\n",
    "#    return np.sqrt(((predictions - targets) ** 2).mean())\n"
   ]
  },
  {
   "cell_type": "markdown",
   "metadata": {},
   "source": [
    "Lasso was the first feature that I spotchecked all my changes against- It runs very quickly so it's easy to iterate off of."
   ]
  },
  {
   "cell_type": "code",
   "execution_count": 43,
   "metadata": {
    "collapsed": true
   },
   "outputs": [],
   "source": [
    "lasso = make_pipeline(RobustScaler(), Lasso(alpha =0.00099, random_state=1))"
   ]
  },
  {
   "cell_type": "code",
   "execution_count": 44,
   "metadata": {
    "scrolled": true
   },
   "outputs": [
    {
     "name": "stdout",
     "output_type": "stream",
     "text": [
      "Lasso score: 0.1130 (0.0142)\n"
     ]
    }
   ],
   "source": [
    "score = rmsle_cv(lasso)\n",
    "print(\"Lasso score: {:.4f} ({:.4f})\".format(score.mean(), score.std()))"
   ]
  },
  {
   "cell_type": "code",
   "execution_count": 99,
   "metadata": {},
   "outputs": [
    {
     "data": {
      "text/plain": [
       "Pipeline(memory=None,\n",
       "     steps=[('robustscaler', RobustScaler(copy=True, quantile_range=(25.0, 75.0), with_centering=True,\n",
       "       with_scaling=True)), ('lasso', Lasso(alpha=0.00099, copy_X=True, fit_intercept=True, max_iter=1000,\n",
       "   normalize=False, positive=False, precompute=False, random_state=1,\n",
       "   selection='cyclic', tol=0.0001, warm_start=False))])"
      ]
     },
     "execution_count": 99,
     "metadata": {},
     "output_type": "execute_result"
    }
   ],
   "source": [
    "lasso.fit(train.values, y_train)"
   ]
  },
  {
   "cell_type": "code",
   "execution_count": 101,
   "metadata": {
    "collapsed": true
   },
   "outputs": [],
   "source": [
    "x = list(zip(train.columns, lasso.steps[1][1].coef_))\n",
    "x.sort(key = lambda x: x[1])\n",
    "df = pd.DataFrame(x, columns=['Var', 'Coeff'])\n",
    "\n",
    "top_pos = df[\"Coeff\"][-20:]\n",
    "top_neg = df[\"Coeff\"][:20]\n",
    "top_pos_names = df[\"Var\"][-20:]\n",
    "top_neg_names = df[\"Var\"][:20]\n",
    "\n",
    "top_coefs = np.hstack([top_neg, top_pos])\n",
    "top_names = np.hstack([top_neg_names, top_pos_names])"
   ]
  },
  {
   "cell_type": "code",
   "execution_count": 102,
   "metadata": {},
   "outputs": [
    {
     "data": {
      "text/plain": [
       "([<matplotlib.axis.XTick at 0x10d2b1588>,\n",
       "  <matplotlib.axis.XTick at 0x1a1a0609e8>,\n",
       "  <matplotlib.axis.XTick at 0x1a191bffd0>,\n",
       "  <matplotlib.axis.XTick at 0x1131747b8>,\n",
       "  <matplotlib.axis.XTick at 0x1a18cef748>,\n",
       "  <matplotlib.axis.XTick at 0x1a19f11048>,\n",
       "  <matplotlib.axis.XTick at 0x10ce5d780>,\n",
       "  <matplotlib.axis.XTick at 0x10ce5dc88>,\n",
       "  <matplotlib.axis.XTick at 0x1a19f0c470>,\n",
       "  <matplotlib.axis.XTick at 0x10d2ffc50>,\n",
       "  <matplotlib.axis.XTick at 0x1a19f07f60>,\n",
       "  <matplotlib.axis.XTick at 0x1a19efacc0>,\n",
       "  <matplotlib.axis.XTick at 0x1a19efa5c0>,\n",
       "  <matplotlib.axis.XTick at 0x10d132a20>,\n",
       "  <matplotlib.axis.XTick at 0x1a19ef3198>,\n",
       "  <matplotlib.axis.XTick at 0x1a19d965c0>,\n",
       "  <matplotlib.axis.XTick at 0x1a1a5b3908>,\n",
       "  <matplotlib.axis.XTick at 0x1a19e92f28>,\n",
       "  <matplotlib.axis.XTick at 0x113e8feb8>,\n",
       "  <matplotlib.axis.XTick at 0x1a19ee12b0>,\n",
       "  <matplotlib.axis.XTick at 0x10d4b55f8>,\n",
       "  <matplotlib.axis.XTick at 0x10d4b5780>,\n",
       "  <matplotlib.axis.XTick at 0x1a1a00eac8>,\n",
       "  <matplotlib.axis.XTick at 0x1a19f6d588>,\n",
       "  <matplotlib.axis.XTick at 0x10cee3198>,\n",
       "  <matplotlib.axis.XTick at 0x10d664cf8>,\n",
       "  <matplotlib.axis.XTick at 0x10d2c87b8>,\n",
       "  <matplotlib.axis.XTick at 0x1142419e8>,\n",
       "  <matplotlib.axis.XTick at 0x1a191ae198>,\n",
       "  <matplotlib.axis.XTick at 0x1a18d6a0b8>,\n",
       "  <matplotlib.axis.XTick at 0x10d2b92e8>,\n",
       "  <matplotlib.axis.XTick at 0x1a1a536c88>,\n",
       "  <matplotlib.axis.XTick at 0x1a1a540fd0>,\n",
       "  <matplotlib.axis.XTick at 0x1a1a54eac8>,\n",
       "  <matplotlib.axis.XTick at 0x10d2c2128>,\n",
       "  <matplotlib.axis.XTick at 0x1a1a566e80>,\n",
       "  <matplotlib.axis.XTick at 0x1a1a573668>,\n",
       "  <matplotlib.axis.XTick at 0x1a19eec978>,\n",
       "  <matplotlib.axis.XTick at 0x1a1a587438>,\n",
       "  <matplotlib.axis.XTick at 0x1a1a5b9470>],\n",
       " <a list of 40 Text xticklabel objects>)"
      ]
     },
     "execution_count": 102,
     "metadata": {},
     "output_type": "execute_result"
    },
    {
     "data": {
      "image/png": "[encoded data removed]",
      "text/plain": [
       "<matplotlib.figure.Figure at 0x1a1a00e7b8>"
      ]
     },
     "metadata": {},
     "output_type": "display_data"
    }
   ],
   "source": [
    "plt.figure(figsize = (15, 5))\n",
    "colors = ['red' if c < 0 else 'blue' for c in top_coefs]\n",
    "plt.bar(np.arange(40), top_coefs, color = colors)\n",
    "feature_names = np.array(train.columns)\n",
    "plt.xticks(np.arange(40), top_names, rotation = 60, ha = 'right')"
   ]
  },
  {
   "cell_type": "markdown",
   "metadata": {},
   "source": [
    "switched away from boxcox to log1p and instantly improved by over 10%"
   ]
  },
  {
   "cell_type": "markdown",
   "metadata": {},
   "source": [
    "ENet ended up being our best individual performer before we switched to stacking.  "
   ]
  },
  {
   "cell_type": "code",
   "execution_count": 45,
   "metadata": {
    "collapsed": true
   },
   "outputs": [],
   "source": [
    "ENet = make_pipeline(RobustScaler(), ElasticNet(alpha=0.0005, l1_ratio=.9, random_state=1))"
   ]
  },
  {
   "cell_type": "markdown",
   "metadata": {
    "collapsed": true
   },
   "source": [
    "#ok so alpha here is the tuning parameter- L1 ratio is the % of penalty assigned to L1 or L2"
   ]
  },
  {
   "cell_type": "code",
   "execution_count": 46,
   "metadata": {
    "scrolled": true
   },
   "outputs": [
    {
     "name": "stdout",
     "output_type": "stream",
     "text": [
      "ElasticNet score: 0.1111 (0.0148)\n"
     ]
    }
   ],
   "source": [
    "score = rmsle_cv(ENet)\n",
    "print(\"ElasticNet score: {:.4f} ({:.4f})\".format(score.mean(), score.std()))"
   ]
  },
  {
   "cell_type": "markdown",
   "metadata": {},
   "source": [
    ".9 l1_ratio gives score: 0.1098 (0.0145)\n",
    ".5  gives ElasticNet score: 0.1108 (0.0144)\n",
    ".7 gives .1099 (0.0146)\n",
    "alpha=0.0003, l1_ratio=.9 gives score: 0.1107 (0.0145) # while better here it's worse in my actual score"
   ]
  },
  {
   "cell_type": "code",
   "execution_count": 47,
   "metadata": {
    "collapsed": true
   },
   "outputs": [],
   "source": [
    "GBoost = GradientBoostingRegressor(n_estimators=3000, learning_rate=0.05,\n",
    "                                   max_depth=4, max_features='sqrt',\n",
    "                                   min_samples_leaf=15, min_samples_split=10, \n",
    "                                   loss='huber', random_state =5)"
   ]
  },
  {
   "cell_type": "code",
   "execution_count": 48,
   "metadata": {},
   "outputs": [
    {
     "name": "stdout",
     "output_type": "stream",
     "text": [
      "Gradient Boosting score: 0.1135 (0.0161)\n",
      "\n"
     ]
    }
   ],
   "source": [
    "score = rmsle_cv(GBoost)\n",
    "print(\"Gradient Boosting score: {:.4f} ({:.4f})\\n\".format(score.mean(), score.std()))"
   ]
  },
  {
   "cell_type": "code",
   "execution_count": 106,
   "metadata": {},
   "outputs": [
    {
     "data": {
      "text/plain": [
       "GradientBoostingRegressor(alpha=0.9, criterion='friedman_mse', init=None,\n",
       "             learning_rate=0.05, loss='huber', max_depth=4,\n",
       "             max_features='sqrt', max_leaf_nodes=None,\n",
       "             min_impurity_decrease=0.0, min_impurity_split=None,\n",
       "             min_samples_leaf=15, min_samples_split=10,\n",
       "             min_weight_fraction_leaf=0.0, n_estimators=3000,\n",
       "             presort='auto', random_state=5, subsample=1.0, verbose=0,\n",
       "             warm_start=False)"
      ]
     },
     "execution_count": 106,
     "metadata": {},
     "output_type": "execute_result"
    }
   ],
   "source": [
    "GBoost.fit(train.values, y_train)"
   ]
  },
  {
   "cell_type": "code",
   "execution_count": 84,
   "metadata": {},
   "outputs": [
    {
     "ename": "AttributeError",
     "evalue": "'GradientBoostingRegressor' object has no attribute 'predictors'",
     "output_type": "error",
     "traceback": [
      "\u001b[0;31m---------------------------------------------------------------------------\u001b[0m",
      "\u001b[0;31mAttributeError\u001b[0m                            Traceback (most recent call last)",
      "\u001b[0;32m<ipython-input-84-79dc0d80ebe3>\u001b[0m in \u001b[0;36m<module>\u001b[0;34m()\u001b[0m\n\u001b[0;32m----> 1\u001b[0;31m \u001b[0mGBoost\u001b[0m\u001b[0;34m.\u001b[0m\u001b[0mpredictors\u001b[0m\u001b[0;34m\u001b[0m\u001b[0m\n\u001b[0m",
      "\u001b[0;31mAttributeError\u001b[0m: 'GradientBoostingRegressor' object has no attribute 'predictors'"
     ]
    }
   ],
   "source": [
    "GBoost.predictors"
   ]
  },
  {
   "cell_type": "code",
   "execution_count": 122,
   "metadata": {},
   "outputs": [
    {
     "data": {
      "image/png": "[encoded data removed]",
      "text/plain": [
       "<matplotlib.figure.Figure at 0x114626080>"
      ]
     },
     "metadata": {},
     "output_type": "display_data"
    }
   ],
   "source": [
    "indices = np.argsort(GBoost.feature_importances_)\n",
    "top_ind = indices[indices > 0]\n",
    "names = list(train)\n",
    "\n",
    "# plot as bar chart\n",
    "plt.barh(np.arange(len(names)), GBoost.feature_importances_[indices])\n",
    "plt.yticks(np.arange(len(names)) + 0.25, np.array(names)[indices])\n",
    "_ = plt.xlabel('Relative importance')"
   ]
  },
  {
   "cell_type": "code",
   "execution_count": 137,
   "metadata": {},
   "outputs": [
    {
     "data": {
      "image/png": "[encoded data removed]",
      "text/plain": [
       "<matplotlib.figure.Figure at 0x10d5249b0>"
      ]
     },
     "metadata": {},
     "output_type": "display_data"
    }
   ],
   "source": [
    "x = list(zip(train.columns, GBoost.feature_importances_))\n",
    "x.sort(key = lambda x: x[1])\n",
    "df = pd.DataFrame(x, columns = ['Var','Importance'])\n",
    "top = df[\"Importance\"][:20]\n",
    "top_name = df['Var'][:20]\n",
    "plt.barh(np.arange(len(top_name)), top)\n",
    "plt.yticks(np.arange(len(top_name))+ 0.25, np.array(top_name))\n",
    "_ = plt.xlabel('Importance')"
   ]
  },
  {
   "cell_type": "markdown",
   "metadata": {},
   "source": [
    "Kernel Ridge was another model I tried out but ended up tossing due to low starting scores- I didn't want to bother spending the time on a model that wasn't performing relatively well to begin with"
   ]
  },
  {
   "cell_type": "code",
   "execution_count": 108,
   "metadata": {
    "collapsed": true
   },
   "outputs": [],
   "source": [
    "#KRR = KernelRidge(alpha=0.6, kernel='polynomial', degree=2, coef0=2.5)"
   ]
  },
  {
   "cell_type": "code",
   "execution_count": 109,
   "metadata": {},
   "outputs": [
    {
     "name": "stdout",
     "output_type": "stream",
     "text": [
      "Kernel Ridge score: 0.5700 (0.3144)\n",
      "\n"
     ]
    }
   ],
   "source": [
    "#score = rmsle_cv(KRR)\n",
    "#print(\"Kernel Ridge score: {:.4f} ({:.4f})\\n\".format(score.mean(), score.std()))"
   ]
  },
  {
   "cell_type": "markdown",
   "metadata": {},
   "source": [
    "ugh, terrible! 0.5700 (0.3144) high mean score, stupidly high standard dev, something's wrong here but i dont think it'll be worth the effort to fix at this point"
   ]
  },
  {
   "cell_type": "code",
   "execution_count": 49,
   "metadata": {
    "collapsed": true
   },
   "outputs": [],
   "source": [
    "LGBoost = GradientBoostingRegressor(n_estimators=1000, learning_rate=0.05,\n",
    "                                   max_depth=2, max_features='sqrt',\n",
    "                                    min_samples_leaf=15, min_samples_split=10,\n",
    "                                    loss='huber', random_state =5)"
   ]
  },
  {
   "cell_type": "code",
   "execution_count": 50,
   "metadata": {},
   "outputs": [
    {
     "name": "stdout",
     "output_type": "stream",
     "text": [
      "LGBoost score: 0.1128 (0.0161)\n",
      "\n"
     ]
    }
   ],
   "source": [
    "score = rmsle_cv(LGBoost)\n",
    "print(\"LGBoost score: {:.4f} ({:.4f})\\n\" .format(score.mean(), score.std()))"
   ]
  },
  {
   "cell_type": "code",
   "execution_count": 97,
   "metadata": {},
   "outputs": [
    {
     "data": {
      "text/plain": [
       "GradientBoostingRegressor(alpha=0.9, criterion='friedman_mse', init=None,\n",
       "             learning_rate=0.05, loss='huber', max_depth=2,\n",
       "             max_features='sqrt', max_leaf_nodes=None,\n",
       "             min_impurity_decrease=0.0, min_impurity_split=None,\n",
       "             min_samples_leaf=15, min_samples_split=10,\n",
       "             min_weight_fraction_leaf=0.0, n_estimators=1000,\n",
       "             presort='auto', random_state=5, subsample=1.0, verbose=0,\n",
       "             warm_start=False)"
      ]
     },
     "execution_count": 97,
     "metadata": {},
     "output_type": "execute_result"
    }
   ],
   "source": [
    "LGBoost.fit(train.values, y_train)"
   ]
  },
  {
   "cell_type": "code",
   "execution_count": 98,
   "metadata": {},
   "outputs": [
    {
     "data": {
      "image/png": "[encoded data removed]",
      "text/plain": [
       "<matplotlib.figure.Figure at 0x1a1a578ac8>"
      ]
     },
     "metadata": {},
     "output_type": "display_data"
    }
   ],
   "source": [
    "indices = np.argsort(LGBoost.feature_importances_)\n",
    "names = list(train)\n",
    "\n",
    "# plot as bar chart\n",
    "plt.barh(np.arange(len(names)), LGBoost.feature_importances_[indices])\n",
    "plt.yticks(np.arange(len(names)) + 0.25, np.array(names)[indices])\n",
    "_ = plt.xlabel('Relative importance')"
   ]
  },
  {
   "cell_type": "markdown",
   "metadata": {},
   "source": [
    "Random forest- this one also underperformed out of the gate and also took relatively long to run compared to my linear models so I ended up discarding it instead of trying to tune it."
   ]
  },
  {
   "cell_type": "code",
   "execution_count": 142,
   "metadata": {
    "collapsed": true
   },
   "outputs": [],
   "source": [
    "rfr = rfr(random_state=0,\n",
    "        n_estimators=1000, max_depth=6,  max_features='sqrt')"
   ]
  },
  {
   "cell_type": "code",
   "execution_count": 143,
   "metadata": {},
   "outputs": [
    {
     "name": "stdout",
     "output_type": "stream",
     "text": [
      "rfr score: 0.1653 (0.0156)\n",
      "\n"
     ]
    }
   ],
   "source": [
    "score = rmsle_cv(rfr)\n",
    "print(\"rfr score: {:.4f} ({:.4f})\\n\" .format(score.mean(), score.std()))"
   ]
  },
  {
   "cell_type": "markdown",
   "metadata": {},
   "source": [
    "# Submitting the original models to kaggle"
   ]
  },
  {
   "cell_type": "code",
   "execution_count": 1745,
   "metadata": {},
   "outputs": [
    {
     "data": {
      "text/plain": [
       "Pipeline(memory=None,\n",
       "     steps=[('robustscaler', RobustScaler(copy=True, quantile_range=(25.0, 75.0), with_centering=True,\n",
       "       with_scaling=True)), ('elasticnet', ElasticNet(alpha=0.0005, copy_X=True, fit_intercept=True, l1_ratio=0.9,\n",
       "      max_iter=1000, normalize=False, positive=False, precompute=False,\n",
       "      random_state=1, selection='cyclic', tol=0.0001, warm_start=False))])"
      ]
     },
     "execution_count": 1745,
     "metadata": {},
     "output_type": "execute_result"
    }
   ],
   "source": [
    "ENet.fit(train.values, y_train)"
   ]
  },
  {
   "cell_type": "code",
   "execution_count": 1746,
   "metadata": {
    "collapsed": true
   },
   "outputs": [],
   "source": [
    "final = ENet.predict(test)"
   ]
  },
  {
   "cell_type": "code",
   "execution_count": 1747,
   "metadata": {},
   "outputs": [
    {
     "data": {
      "text/plain": [
       "array([ 11.69420004,  11.92437534,  12.09453884, ...,  12.04448875,\n",
       "        11.64709749,  12.34173156])"
      ]
     },
     "execution_count": 1747,
     "metadata": {},
     "output_type": "execute_result"
    }
   ],
   "source": [
    "final"
   ]
  },
  {
   "cell_type": "code",
   "execution_count": 1748,
   "metadata": {
    "collapsed": true
   },
   "outputs": [],
   "source": [
    "results = np.expm1(ENet.predict(test))"
   ]
  },
  {
   "cell_type": "code",
   "execution_count": 1749,
   "metadata": {},
   "outputs": [
    {
     "data": {
      "text/plain": [
       "array([ 119873.42771696,  150899.40717836,  178891.23103759, ...,\n",
       "        170158.03068075,  114357.95247989,  229057.23644241])"
      ]
     },
     "execution_count": 1749,
     "metadata": {},
     "output_type": "execute_result"
    }
   ],
   "source": [
    "results"
   ]
  },
  {
   "cell_type": "code",
   "execution_count": 1750,
   "metadata": {
    "collapsed": true
   },
   "outputs": [],
   "source": [
    "attempt4 = pd.DataFrame()\n",
    "attempt4['Id'] = test_ID\n",
    "attempt4['SalePrice'] = results\n",
    "attempt4.to_csv('submit9.csv', index=False)"
   ]
  },
  {
   "cell_type": "markdown",
   "metadata": {},
   "source": [
    "attempt4 is using the ENet. it resulted in a score of 0.11922 on kaggle"
   ]
  },
  {
   "cell_type": "markdown",
   "metadata": {},
   "source": [
    "# Ensembling by Averaging"
   ]
  },
  {
   "cell_type": "markdown",
   "metadata": {},
   "source": [
    "the goal was to try and grab 2 random forest, 1 or 2 regression and 2 or 3 gbr. started with the models used in the kaggle jumpstart but liked my models better- discarded the random forest because it was underperforming compared to these other models"
   ]
  },
  {
   "cell_type": "code",
   "execution_count": 51,
   "metadata": {
    "collapsed": true
   },
   "outputs": [],
   "source": [
    "class AveragingModels(BaseEstimator, RegressorMixin, TransformerMixin):\n",
    "    def __init__(self, models):\n",
    "        self.models = models\n",
    "    \n",
    "    #cloning models to fit the data\n",
    "    def fit(self, X, y):\n",
    "        self.models_ = [clone(x) for x in self.models]\n",
    "        \n",
    "        #training the cloned models\n",
    "        for model in self.models_:\n",
    "            model.fit(X, y)\n",
    "            \n",
    "        return self\n",
    "    \n",
    "    #predicting based on the cloned models\n",
    "    def predict(self, X):\n",
    "        predictions = np.column_stack([\n",
    "            model.predict(X) for model in self.models_])\n",
    "        #averaging the predictions\n",
    "        return np.mean(predictions, axis=1)\n",
    "    "
   ]
  },
  {
   "cell_type": "code",
   "execution_count": 59,
   "metadata": {
    "collapsed": true
   },
   "outputs": [],
   "source": [
    "# import random\n",
    "\n",
    "# def feature_importances(clf, X, y):\n",
    "#     score = np.mean(cross_val_score(clf, X,y,scoring='roc_auc'))\n",
    "#     importances = {} \n",
    "#     for i in range(X.shape[1]):\n",
    "#         X_perm = X.copy()\n",
    "#         X_perm[:,i] = random.sample(X[:,i].tolist(), X.shape[0])\n",
    "#         perm_score = np.mean(cross_val_score(clf, X_perm , y, scoring='roc_auc'))\n",
    "#         importances[i] = score - perm_score\n",
    "\n",
    "#     return importances"
   ]
  },
  {
   "cell_type": "code",
   "execution_count": 52,
   "metadata": {
    "collapsed": true
   },
   "outputs": [],
   "source": [
    "averaged_models = AveragingModels(models = (ENet, GBoost, lasso, LGBoost))"
   ]
  },
  {
   "cell_type": "code",
   "execution_count": 53,
   "metadata": {},
   "outputs": [
    {
     "name": "stdout",
     "output_type": "stream",
     "text": [
      " Averaged base models score: 0.1071 (0.0158)\n",
      "\n"
     ]
    }
   ],
   "source": [
    "score = rmsle_cv(averaged_models)\n",
    "print(\" Averaged base models score: {:.4f} ({:.4f})\\n\".format(score.mean(), score.std()))"
   ]
  },
  {
   "cell_type": "code",
   "execution_count": 54,
   "metadata": {},
   "outputs": [
    {
     "data": {
      "text/plain": [
       "AveragingModels(models=(Pipeline(memory=None,\n",
       "     steps=[('robustscaler', RobustScaler(copy=True, quantile_range=(25.0, 75.0), with_centering=True,\n",
       "       with_scaling=True)), ('elasticnet', ElasticNet(alpha=0.0005, copy_X=True, fit_intercept=True, l1_ratio=0.9,\n",
       "      max_iter=1000, normalize=False, positive=False...           presort='auto', random_state=5, subsample=1.0, verbose=0,\n",
       "             warm_start=False)))"
      ]
     },
     "execution_count": 54,
     "metadata": {},
     "output_type": "execute_result"
    }
   ],
   "source": [
    "averaged_models.fit(train.values, y_train)"
   ]
  },
  {
   "cell_type": "code",
   "execution_count": 58,
   "metadata": {},
   "outputs": [
    {
     "ename": "AttributeError",
     "evalue": "'AveragingModels' object has no attribute 'feature_importances'",
     "output_type": "error",
     "traceback": [
      "\u001b[0;31m---------------------------------------------------------------------------\u001b[0m",
      "\u001b[0;31mAttributeError\u001b[0m                            Traceback (most recent call last)",
      "\u001b[0;32m<ipython-input-58-a110e5da94ff>\u001b[0m in \u001b[0;36m<module>\u001b[0;34m()\u001b[0m\n\u001b[0;32m----> 1\u001b[0;31m \u001b[0maveraged_models\u001b[0m\u001b[0;34m.\u001b[0m\u001b[0mfeature_importances\u001b[0m\u001b[0;34m\u001b[0m\u001b[0m\n\u001b[0m",
      "\u001b[0;31mAttributeError\u001b[0m: 'AveragingModels' object has no attribute 'feature_importances'"
     ]
    }
   ],
   "source": [
    "averaged_models.feature_importances"
   ]
  },
  {
   "cell_type": "code",
   "execution_count": 126,
   "metadata": {
    "collapsed": true
   },
   "outputs": [],
   "source": [
    "finalstack = averaged_models.predict(test)"
   ]
  },
  {
   "cell_type": "code",
   "execution_count": 127,
   "metadata": {},
   "outputs": [
    {
     "data": {
      "text/plain": [
       "array([ 11.70799558,  11.93892418,  12.12511845, ...,  12.02246121,\n",
       "        11.66356056,  12.32596177])"
      ]
     },
     "execution_count": 127,
     "metadata": {},
     "output_type": "execute_result"
    }
   ],
   "source": [
    "finalstack"
   ]
  },
  {
   "cell_type": "code",
   "execution_count": 130,
   "metadata": {
    "collapsed": true
   },
   "outputs": [],
   "source": [
    "resultstack = np.expm1(averaged_models.predict(test))"
   ]
  },
  {
   "cell_type": "code",
   "execution_count": 131,
   "metadata": {},
   "outputs": [
    {
     "data": {
      "text/plain": [
       "array([ 121538.62061576,  153110.88005588,  184446.18712878, ...,\n",
       "        166450.8251386 ,  116256.23479401,  225473.3691775 ])"
      ]
     },
     "execution_count": 131,
     "metadata": {},
     "output_type": "execute_result"
    }
   ],
   "source": [
    "resultstack"
   ]
  },
  {
   "cell_type": "code",
   "execution_count": 132,
   "metadata": {
    "collapsed": true
   },
   "outputs": [],
   "source": [
    "attempt = pd.DataFrame()\n",
    "attempt['Id'] = test_ID\n",
    "attempt['SalePrice'] = resultstack\n",
    "attempt.to_csv('stacksubmit1.csv', index=False)"
   ]
  },
  {
   "cell_type": "markdown",
   "metadata": {},
   "source": [
    "this gave us our best score to date which is 0.11751. our best score outside stacking (with just ENet was 0.11922)"
   ]
  },
  {
   "cell_type": "markdown",
   "metadata": {},
   "source": [
    "# Old discarded attempt at stacking"
   ]
  },
  {
   "cell_type": "code",
   "execution_count": 1556,
   "metadata": {
    "collapsed": true
   },
   "outputs": [],
   "source": [
    "# models = [\n",
    "#     # linear model, ElasticNet = lasso + ridge\n",
    "#     ElasticNet(random_state=0),\n",
    "    \n",
    "#     # conservative random forst model\n",
    "#     rfr(random_state=0,\n",
    "#         n_estimators=1000, max_depth=6,  max_features='sqrt'),\n",
    "    \n",
    "#     # aggressive random forst model\n",
    "#     rfr(random_state=0, \n",
    "#         n_estimators=1000, max_depth=9,  max_features='auto'),\n",
    "    \n",
    "#     # conservative gbm model\n",
    "#     gbr(random_state=0, learning_rate = 0.005, max_features='sqrt',\n",
    "#         min_samples_leaf=15, min_samples_split=10, \n",
    "#         n_estimators=3000, max_depth=3),\n",
    "    \n",
    "#     # aggressive gbm model\n",
    "#     gbr(random_state = 0, learning_rate = 0.01, max_features='sqrt',\n",
    "#         min_samples_leaf=10, min_samples_split=5, \n",
    "#         n_estimators = 1000, max_depth = 9)\n",
    "#     ]\n",
    "\n",
    "# meta_model = lr(normalize=True)\n"
   ]
  },
  {
   "cell_type": "code",
   "execution_count": null,
   "metadata": {
    "collapsed": true
   },
   "outputs": [],
   "source": []
  },
  {
   "cell_type": "code",
   "execution_count": 1557,
   "metadata": {},
   "outputs": [
    {
     "name": "stdout",
     "output_type": "stream",
     "text": [
      "metric: [rmsle]\n",
      "\n",
      "model 0: [ElasticNet]\n",
      "    ----\n",
      "    MEAN:   [0.03323538]\n",
      "\n",
      "model 1: [RandomForestRegressor]\n",
      "    ----\n",
      "    MEAN:   [0.01373886]\n",
      "\n",
      "model 2: [RandomForestRegressor]\n",
      "    ----\n",
      "    MEAN:   [0.01187843]\n",
      "\n",
      "model 3: [GradientBoostingRegressor]\n",
      "    ----\n",
      "    MEAN:   [0.01016542]\n",
      "\n",
      "model 4: [GradientBoostingRegressor]\n",
      "    ----\n",
      "    MEAN:   [0.01031268]\n",
      "\n",
      "CPU times: user 1min 1s, sys: 308 ms, total: 1min 1s\n",
      "Wall time: 1min 1s\n"
     ]
    }
   ],
   "source": [
    "#%%time\n",
    "#stacking_prediction = stacking_regression(models, meta_model, train, y_train, test,\n",
    "#                               transform_target=np.log1p, transform_pred = np.expm1, \n",
    "#                               metric=rmsle, verbose=1)"
   ]
  },
  {
   "cell_type": "code",
   "execution_count": 1558,
   "metadata": {},
   "outputs": [
    {
     "data": {
      "text/plain": [
       "array([ 11.71492013,  11.95694426,  12.11837029, ...,  12.00538928,\n",
       "        11.7119364 ,  12.31906447])"
      ]
     },
     "execution_count": 1558,
     "metadata": {},
     "output_type": "execute_result"
    }
   ],
   "source": [
    "#stacking_prediction"
   ]
  },
  {
   "cell_type": "code",
   "execution_count": 1561,
   "metadata": {
    "collapsed": true
   },
   "outputs": [],
   "source": [
    "#Eresults = np.expm1(stacking_prediction)"
   ]
  },
  {
   "cell_type": "code",
   "execution_count": 1562,
   "metadata": {},
   "outputs": [
    {
     "data": {
      "text/plain": [
       "array([ 122383.14810574,  155894.97857936,  183205.69778581, ...,\n",
       "        163633.28978136,  122018.53081885,  223923.55480804])"
      ]
     },
     "execution_count": 1562,
     "metadata": {},
     "output_type": "execute_result"
    }
   ],
   "source": [
    "#Eresults"
   ]
  },
  {
   "cell_type": "code",
   "execution_count": 1563,
   "metadata": {
    "collapsed": true
   },
   "outputs": [],
   "source": [
    "# attempt4 = pd.DataFrame()\n",
    "# attempt4['Id'] = test_ID\n",
    "# attempt4['SalePrice'] = Eresults\n",
    "# attempt4.to_csv('submit8.csv', index=False)"
   ]
  },
  {
   "cell_type": "markdown",
   "metadata": {},
   "source": [
    "the ensemble got me 0.12364, which is worse than my Enet"
   ]
  },
  {
   "cell_type": "code",
   "execution_count": null,
   "metadata": {
    "collapsed": true
   },
   "outputs": [],
   "source": []
  }
 ],
 "metadata": {
  "kernelspec": {
   "display_name": "Python 3",
   "language": "python",
   "name": "python3"
  },
  "language_info": {
   "codemirror_mode": {
    "name": "ipython",
    "version": 3
   },
   "file_extension": ".py",
   "mimetype": "text/x-python",
   "name": "python",
   "nbconvert_exporter": "python",
   "pygments_lexer": "ipython3",
   "version": "3.6.1"
  }
 },
 "nbformat": 4,
 "nbformat_minor": 2
}
