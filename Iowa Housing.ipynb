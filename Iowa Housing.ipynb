{
 "cells": [
  {
   "cell_type": "code",
   "execution_count": 238,
   "metadata": {
    "collapsed": true
   },
   "outputs": [],
   "source": [
    "import numpy as np\n",
    "import pandas as pd\n",
    "from matplotlib import pyplot as plt\n",
    "%matplotlib inline"
   ]
  },
  {
   "cell_type": "code",
   "execution_count": 239,
   "metadata": {
    "collapsed": true
   },
   "outputs": [],
   "source": [
    "iowa_houses = pd.read_csv('train.csv')"
   ]
  },
  {
   "cell_type": "code",
   "execution_count": 255,
   "metadata": {},
   "outputs": [],
   "source": [
    "##########################################\n",
    "# Convert All Nulls, and Nones to Absent #\n",
    "##########################################\n",
    "def fix_nulls(dframe):\n",
    "    df = dframe.copy(deep = True)\n",
    "    df.fillna(\"Absent\", inplace = True)\n",
    "    df.replace({'None': 'Absent'}, regex = True, inplace = True)\n",
    "    return df\n",
    "\n",
    "###########################################\n",
    "# Change Certain Columns to Category Type #\n",
    "###########################################\n",
    "def convert_cols(dframe, cols):\n",
    "    df = dframe.copy(deep = True)\n",
    "    for i in cols:\n",
    "        df[i] = df[i].astype('category', errors = 'ignore')\n",
    "    return df\n",
    "\n",
    "################################\n",
    "# Log Transform Certain Columns#\n",
    "################################\n",
    "def log_transf(dframe, cols):\n",
    "    df = dframe.copy(deep = True)\n",
    "    for i in cols:\n",
    "        df[i] = df[i].apply(np.log)\n",
    "        df.loc[df[i] == -np.inf, i] = 0\n",
    "    return df\n",
    "\n",
    "###################################\n",
    "# Convert Entries to 0 In Columns #\n",
    "###################################\n",
    "def make_zeros(dframe, cols):\n",
    "    df = dframe.copy(deep = True)\n",
    "    for i in cols:\n",
    "        df[i] = df[i].fillna(0)\n",
    "#         df.loc[df[i] == \"Absent\", i] = 0\n",
    "    return df\n",
    "\n",
    "############################################\n",
    "# Change Certain Columns to Numerical Type #\n",
    "############################################\n",
    "def convert_cols_num(dframe, cols):\n",
    "    df = dframe.copy(deep = True)\n",
    "    for i in cols:\n",
    "        df[i] = pd.to_numeric(df[i], errors='coerce')\n",
    "    return df\n",
    "\n",
    "###################################\n",
    "# Convert Entries to Yes/No Value #\n",
    "###################################\n",
    "def binarize(dframe, cols):\n",
    "    df = dframe.copy(deep = True)\n",
    "    for i in cols:\n",
    "        df.loc[df[i] != \"Absent\", i] = \"Yes\"\n",
    "        df.loc[df[i] == \"Absent\", i] = \"No\"\n",
    "    return df\n",
    "\n",
    "######################################\n",
    "# Impute NaNs By Median Neighborhood #\n",
    "######################################\n",
    "def impute_absents(dframe):\n",
    "#     neigh_median = dframe.groupby('Neighborhood').agg({'LotFrontage':'median'})\n",
    "#     neigh_median = neigh_median.to_dict()['LotFrontage']\n",
    "    \n",
    "#     df = dframe.copy(deep = True)\n",
    "#     df.loc[df.LotFrontage == \"Absent\", \"LotFrontage\"] = df.apply(lambda x: )\n",
    "    pass"
   ]
  },
  {
   "cell_type": "code",
   "execution_count": 268,
   "metadata": {
    "scrolled": true
   },
   "outputs": [],
   "source": [
    "cat_cols = [\"MSSubClass\", \"MSZoning\", \"Street\", \"Alley\", \"LotShape\",\n",
    "            \"LandContour\", \"Utilities\", \"LotConfig\", \"LandSlope\", \n",
    "            \"Neighborhood\", \"Condition1\", \"Condition2\", \"BldgType\",\n",
    "            \"MoSold\", \"YrSold\"]\n",
    "num_cols = [\"LotFrontage\", \"LotArea\", \"MasVnrArea\"]\n",
    "bin_cols = [\"GarageYrBlt\", \"PoolQC\", \"Fence\", \"MiscFeature\"]\n",
    "log_cols = [\"MasVnrArea\"]"
   ]
  },
  {
   "cell_type": "code",
   "execution_count": 303,
   "metadata": {},
   "outputs": [
    {
     "data": {
      "text/plain": [
       "Unf       1256\n",
       "Rec         54\n",
       "LwQ         46\n",
       "Absent      37\n",
       "BLQ         33\n",
       "ALQ         19\n",
       "GLQ         15\n",
       "Name: BsmtFinType2, dtype: int64"
      ]
     },
     "execution_count": 303,
     "metadata": {},
     "output_type": "execute_result"
    }
   ],
   "source": [
    "cleaned = fix_nulls(iowa_houses)\n",
    "cleaned.loc[cleaned.MSZoning == \"C (all)\", \"MSZoning\"] = 'C'\n",
    "cleaned.iloc[1379,42] = 'SBrkr'\n",
    "cleaned.iloc[332,35] = 'GLQ'\n",
    "cleaned = convert_cols(cleaned, cat_cols)\n",
    "cleaned = convert_cols_num(cleaned, num_cols)\n",
    "cleaned = make_zeros(cleaned, num_cols)\n",
    "cleaned = binarize(cleaned, bin_cols)\n",
    "cleaned = log_transf(cleaned, log_cols)\n",
    "# impute function here\n",
    "cleaned.BsmtFinType2.value_counts()"
   ]
  },
  {
   "cell_type": "code",
   "execution_count": null,
   "metadata": {
    "collapsed": true
   },
   "outputs": [],
   "source": []
  }
 ],
 "metadata": {
  "kernelspec": {
   "display_name": "Python 3",
   "language": "python",
   "name": "python3"
  },
  "language_info": {
   "codemirror_mode": {
    "name": "ipython",
    "version": 3
   },
   "file_extension": ".py",
   "mimetype": "text/x-python",
   "name": "python",
   "nbconvert_exporter": "python",
   "pygments_lexer": "ipython3",
   "version": "3.6.2"
  }
 },
 "nbformat": 4,
 "nbformat_minor": 2
}
